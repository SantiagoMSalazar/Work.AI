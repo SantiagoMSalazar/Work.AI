{
 "cells": [
  {
   "cell_type": "raw",
   "id": "76b480d3-133d-4a5f-80fa-da94cc3c585e",
   "metadata": {},
   "source": [
    "---\n",
    "title: \"Proyecto IA\"\n",
    "author: \"David Yánez, Santiago Salazar\"\n",
    "lang: es\n",
    "format:\n",
    "    pdf:\n",
    "        toc: true\n",
    "        toc-title: \"Tabla de contenidos\"\n",
    "execute:\n",
    "    echo: true\n",
    "    error: false\n",
    "    warning: false\n",
    "#code-fold: true\n",
    "jupyter: python3\n",
    "---"
   ]
  },
  {
   "cell_type": "code",
   "execution_count": 2,
   "id": "004f16a3-4d9f-4da8-bbac-b5c3498b8f33",
   "metadata": {},
   "outputs": [],
   "source": [
    "import pickle\n",
    "import numpy as np\n",
    "import pandas as pd\n",
    "import sklearn.metrics as sm\n",
    "import matplotlib.pyplot as plt\n",
    "from sklearn.cluster import KMeans\n",
    "from sklearn import metrics\n",
    "from sklearn import preprocessing\n",
    "from sklearn.metrics import pairwise\n",
    "from scipy.cluster.hierarchy import dendrogram, linkage, fcluster\n",
    "import seaborn as sns\n",
    "from pandas.plotting import parallel_coordinates"
   ]
  },
  {
   "cell_type": "code",
   "execution_count": 3,
   "id": "e2369c19-38bc-4543-b73a-f7fd7dbe69ae",
   "metadata": {},
   "outputs": [
    {
     "data": {
      "text/html": [
       "<div>\n",
       "<style scoped>\n",
       "    .dataframe tbody tr th:only-of-type {\n",
       "        vertical-align: middle;\n",
       "    }\n",
       "\n",
       "    .dataframe tbody tr th {\n",
       "        vertical-align: top;\n",
       "    }\n",
       "\n",
       "    .dataframe thead th {\n",
       "        text-align: right;\n",
       "    }\n",
       "</style>\n",
       "<table border=\"1\" class=\"dataframe\">\n",
       "  <thead>\n",
       "    <tr style=\"text-align: right;\">\n",
       "      <th></th>\n",
       "      <th>id_empresa</th>\n",
       "      <th>tipo_establecimiento_cod</th>\n",
       "      <th>tipo_establecimiento</th>\n",
       "      <th>provincia_cod</th>\n",
       "      <th>provincia_desc</th>\n",
       "      <th>ciiu_cod</th>\n",
       "      <th>ciiu_desc</th>\n",
       "      <th>personal_ocupado</th>\n",
       "      <th>sueldos</th>\n",
       "      <th>ventas</th>\n",
       "    </tr>\n",
       "  </thead>\n",
       "  <tbody>\n",
       "    <tr>\n",
       "      <th>428</th>\n",
       "      <td>13601962017</td>\n",
       "      <td>Auxiliar</td>\n",
       "      <td>Auxiliar</td>\n",
       "      <td>EL ORO</td>\n",
       "      <td>EL ORO</td>\n",
       "      <td></td>\n",
       "      <td></td>\n",
       "      <td>0</td>\n",
       "      <td>0</td>\n",
       "      <td>0</td>\n",
       "    </tr>\n",
       "    <tr>\n",
       "      <th>19659</th>\n",
       "      <td>14819119172</td>\n",
       "      <td>Sucursal</td>\n",
       "      <td>Sucursal</td>\n",
       "      <td>PICHINCHA</td>\n",
       "      <td>PICHINCHA</td>\n",
       "      <td>VENTA AL POR MENOR DE PRENDAS DE VESTIR, CALZA...</td>\n",
       "      <td>Venta al por menor de prendas de vestir, calza...</td>\n",
       "      <td>4</td>\n",
       "      <td>26390</td>\n",
       "      <td>245182</td>\n",
       "    </tr>\n",
       "    <tr>\n",
       "      <th>14412</th>\n",
       "      <td>13829271171</td>\n",
       "      <td>Sucursal</td>\n",
       "      <td>Sucursal</td>\n",
       "      <td>PICHINCHA</td>\n",
       "      <td>PICHINCHA</td>\n",
       "      <td>VENTA AL POR MENOR DE PRENDAS DE VESTIR, CALZA...</td>\n",
       "      <td>Venta al por menor de prendas de vestir, calza...</td>\n",
       "      <td>5</td>\n",
       "      <td>28170</td>\n",
       "      <td>520806</td>\n",
       "    </tr>\n",
       "    <tr>\n",
       "      <th>9053</th>\n",
       "      <td>13824564170</td>\n",
       "      <td>Auxiliar</td>\n",
       "      <td>Auxiliar</td>\n",
       "      <td>PICHINCHA</td>\n",
       "      <td>PICHINCHA</td>\n",
       "      <td></td>\n",
       "      <td></td>\n",
       "      <td>17</td>\n",
       "      <td>186060</td>\n",
       "      <td>0</td>\n",
       "    </tr>\n",
       "    <tr>\n",
       "      <th>9420</th>\n",
       "      <td>13824714171</td>\n",
       "      <td>Sucursal</td>\n",
       "      <td>Sucursal</td>\n",
       "      <td>GUAYAS</td>\n",
       "      <td>GUAYAS</td>\n",
       "      <td>ACTIVIDADES DE FOTOGRAFÍA.</td>\n",
       "      <td>Actividades de fotografía.</td>\n",
       "      <td>5</td>\n",
       "      <td>28751</td>\n",
       "      <td>138437</td>\n",
       "    </tr>\n",
       "    <tr>\n",
       "      <th>6078</th>\n",
       "      <td>13707900096</td>\n",
       "      <td>Sucursal</td>\n",
       "      <td>Sucursal</td>\n",
       "      <td>GUAYAS</td>\n",
       "      <td>GUAYAS</td>\n",
       "      <td>CAPTACIÓN, TRATAMIENTO Y DISTRIBUCIÓN DE AGUA.</td>\n",
       "      <td>Captación, tratamiento y distribución de agua.</td>\n",
       "      <td>0</td>\n",
       "      <td>0</td>\n",
       "      <td>0</td>\n",
       "    </tr>\n",
       "    <tr>\n",
       "      <th>18329</th>\n",
       "      <td>14776409171</td>\n",
       "      <td>Sucursal</td>\n",
       "      <td>Sucursal</td>\n",
       "      <td>IMBABURA</td>\n",
       "      <td>IMBABURA</td>\n",
       "      <td>VENTA AL POR MENOR DE EQUIPO DE SONIDO Y VÍDEO...</td>\n",
       "      <td>Venta al por menor de equipo de sonido y vídeo...</td>\n",
       "      <td>0</td>\n",
       "      <td>0</td>\n",
       "      <td>0</td>\n",
       "    </tr>\n",
       "    <tr>\n",
       "      <th>16916</th>\n",
       "      <td>14678862097</td>\n",
       "      <td>Sucursal</td>\n",
       "      <td>Sucursal</td>\n",
       "      <td>GUAYAS</td>\n",
       "      <td>GUAYAS</td>\n",
       "      <td>ACTIVIDADES DE MÉDICOS Y ODONTÓLOGOS.</td>\n",
       "      <td>Actividades de médicos y odontólogos.</td>\n",
       "      <td>10</td>\n",
       "      <td>176362</td>\n",
       "      <td>2592363</td>\n",
       "    </tr>\n",
       "    <tr>\n",
       "      <th>21989</th>\n",
       "      <td>46564850098</td>\n",
       "      <td>Sucursal</td>\n",
       "      <td>Sucursal</td>\n",
       "      <td>GUAYAS</td>\n",
       "      <td>GUAYAS</td>\n",
       "      <td>ACTIVIDADES DE RESTAURANTES Y DE SERVICIO MÓVI...</td>\n",
       "      <td>Actividades de restaurantes y de servicio móvi...</td>\n",
       "      <td>10</td>\n",
       "      <td>35128</td>\n",
       "      <td>32994</td>\n",
       "    </tr>\n",
       "    <tr>\n",
       "      <th>22190</th>\n",
       "      <td>46618181090</td>\n",
       "      <td>Sucursal</td>\n",
       "      <td>Sucursal</td>\n",
       "      <td>EL ORO</td>\n",
       "      <td>EL ORO</td>\n",
       "      <td>GENERACIÓN, TRANSMISIÓN Y DISTRIBUCIÓN DE ENER...</td>\n",
       "      <td>Generación, transmisión y distribución de ener...</td>\n",
       "      <td>0</td>\n",
       "      <td>0</td>\n",
       "      <td>0</td>\n",
       "    </tr>\n",
       "    <tr>\n",
       "      <th>18742</th>\n",
       "      <td>14792611096</td>\n",
       "      <td>Sucursal</td>\n",
       "      <td>Sucursal</td>\n",
       "      <td>GUAYAS</td>\n",
       "      <td>GUAYAS</td>\n",
       "      <td>VENTA AL POR MENOR DE PRODUCTOS FARMACÉUTICOS ...</td>\n",
       "      <td>Venta al por menor de productos farmacéuticos ...</td>\n",
       "      <td>2</td>\n",
       "      <td>10181</td>\n",
       "      <td>209186</td>\n",
       "    </tr>\n",
       "    <tr>\n",
       "      <th>15953</th>\n",
       "      <td>14612897175</td>\n",
       "      <td>Sucursal</td>\n",
       "      <td>Sucursal</td>\n",
       "      <td>PICHINCHA</td>\n",
       "      <td>PICHINCHA</td>\n",
       "      <td>VENTA AL POR MAYOR DE DESPERDICIOS, DESECHOS, ...</td>\n",
       "      <td>Venta al por mayor de desperdicios, desechos, ...</td>\n",
       "      <td>8</td>\n",
       "      <td>104975</td>\n",
       "      <td>1943717</td>\n",
       "    </tr>\n",
       "    <tr>\n",
       "      <th>11103</th>\n",
       "      <td>13826067173</td>\n",
       "      <td>Sucursal</td>\n",
       "      <td>Sucursal</td>\n",
       "      <td>PICHINCHA</td>\n",
       "      <td>PICHINCHA</td>\n",
       "      <td>VENTA AL POR MENOR DE COMBUSTIBLES PARA VEHÍCU...</td>\n",
       "      <td>Venta al por menor de combustibles para vehícu...</td>\n",
       "      <td>13</td>\n",
       "      <td>63972</td>\n",
       "      <td>3941951</td>\n",
       "    </tr>\n",
       "    <tr>\n",
       "      <th>8658</th>\n",
       "      <td>13824498177</td>\n",
       "      <td>Sucursal</td>\n",
       "      <td>Sucursal</td>\n",
       "      <td>GUAYAS</td>\n",
       "      <td>GUAYAS</td>\n",
       "      <td>VENTA AL POR MENOR EN COMERCIOS NO ESPECIALIZA...</td>\n",
       "      <td>Venta al por menor en comercios no especializa...</td>\n",
       "      <td>21</td>\n",
       "      <td>175790</td>\n",
       "      <td>3732492</td>\n",
       "    </tr>\n",
       "    <tr>\n",
       "      <th>17437</th>\n",
       "      <td>14724020187</td>\n",
       "      <td>Matriz</td>\n",
       "      <td>Matriz</td>\n",
       "      <td>LOJA</td>\n",
       "      <td>LOJA</td>\n",
       "      <td>VENTA AL POR MAYOR DE ALIMENTOS, BEBIDAS Y TAB...</td>\n",
       "      <td>Venta al por mayor de alimentos, bebidas y tab...</td>\n",
       "      <td>69</td>\n",
       "      <td>619998</td>\n",
       "      <td>15331296</td>\n",
       "    </tr>\n",
       "  </tbody>\n",
       "</table>\n",
       "</div>"
      ],
      "text/plain": [
       "        id_empresa tipo_establecimiento_cod tipo_establecimiento  \\\n",
       "428    13601962017                 Auxiliar             Auxiliar   \n",
       "19659  14819119172                 Sucursal             Sucursal   \n",
       "14412  13829271171                 Sucursal             Sucursal   \n",
       "9053   13824564170                 Auxiliar             Auxiliar   \n",
       "9420   13824714171                 Sucursal             Sucursal   \n",
       "6078   13707900096                 Sucursal             Sucursal   \n",
       "18329  14776409171                 Sucursal             Sucursal   \n",
       "16916  14678862097                 Sucursal             Sucursal   \n",
       "21989  46564850098                 Sucursal             Sucursal   \n",
       "22190  46618181090                 Sucursal             Sucursal   \n",
       "18742  14792611096                 Sucursal             Sucursal   \n",
       "15953  14612897175                 Sucursal             Sucursal   \n",
       "11103  13826067173                 Sucursal             Sucursal   \n",
       "8658   13824498177                 Sucursal             Sucursal   \n",
       "17437  14724020187                   Matriz               Matriz   \n",
       "\n",
       "      provincia_cod provincia_desc  \\\n",
       "428          EL ORO         EL ORO   \n",
       "19659     PICHINCHA      PICHINCHA   \n",
       "14412     PICHINCHA      PICHINCHA   \n",
       "9053      PICHINCHA      PICHINCHA   \n",
       "9420         GUAYAS         GUAYAS   \n",
       "6078         GUAYAS         GUAYAS   \n",
       "18329      IMBABURA       IMBABURA   \n",
       "16916        GUAYAS         GUAYAS   \n",
       "21989        GUAYAS         GUAYAS   \n",
       "22190        EL ORO         EL ORO   \n",
       "18742        GUAYAS         GUAYAS   \n",
       "15953     PICHINCHA      PICHINCHA   \n",
       "11103     PICHINCHA      PICHINCHA   \n",
       "8658         GUAYAS         GUAYAS   \n",
       "17437          LOJA           LOJA   \n",
       "\n",
       "                                                ciiu_cod  \\\n",
       "428                                                        \n",
       "19659  VENTA AL POR MENOR DE PRENDAS DE VESTIR, CALZA...   \n",
       "14412  VENTA AL POR MENOR DE PRENDAS DE VESTIR, CALZA...   \n",
       "9053                                                       \n",
       "9420                          ACTIVIDADES DE FOTOGRAFÍA.   \n",
       "6078      CAPTACIÓN, TRATAMIENTO Y DISTRIBUCIÓN DE AGUA.   \n",
       "18329  VENTA AL POR MENOR DE EQUIPO DE SONIDO Y VÍDEO...   \n",
       "16916              ACTIVIDADES DE MÉDICOS Y ODONTÓLOGOS.   \n",
       "21989  ACTIVIDADES DE RESTAURANTES Y DE SERVICIO MÓVI...   \n",
       "22190  GENERACIÓN, TRANSMISIÓN Y DISTRIBUCIÓN DE ENER...   \n",
       "18742  VENTA AL POR MENOR DE PRODUCTOS FARMACÉUTICOS ...   \n",
       "15953  VENTA AL POR MAYOR DE DESPERDICIOS, DESECHOS, ...   \n",
       "11103  VENTA AL POR MENOR DE COMBUSTIBLES PARA VEHÍCU...   \n",
       "8658   VENTA AL POR MENOR EN COMERCIOS NO ESPECIALIZA...   \n",
       "17437  VENTA AL POR MAYOR DE ALIMENTOS, BEBIDAS Y TAB...   \n",
       "\n",
       "                                               ciiu_desc  personal_ocupado  \\\n",
       "428                                                                      0   \n",
       "19659  Venta al por menor de prendas de vestir, calza...                 4   \n",
       "14412  Venta al por menor de prendas de vestir, calza...                 5   \n",
       "9053                                                                    17   \n",
       "9420                          Actividades de fotografía.                 5   \n",
       "6078      Captación, tratamiento y distribución de agua.                 0   \n",
       "18329  Venta al por menor de equipo de sonido y vídeo...                 0   \n",
       "16916              Actividades de médicos y odontólogos.                10   \n",
       "21989  Actividades de restaurantes y de servicio móvi...                10   \n",
       "22190  Generación, transmisión y distribución de ener...                 0   \n",
       "18742  Venta al por menor de productos farmacéuticos ...                 2   \n",
       "15953  Venta al por mayor de desperdicios, desechos, ...                 8   \n",
       "11103  Venta al por menor de combustibles para vehícu...                13   \n",
       "8658   Venta al por menor en comercios no especializa...                21   \n",
       "17437  Venta al por mayor de alimentos, bebidas y tab...                69   \n",
       "\n",
       "       sueldos    ventas  \n",
       "428          0         0  \n",
       "19659    26390    245182  \n",
       "14412    28170    520806  \n",
       "9053    186060         0  \n",
       "9420     28751    138437  \n",
       "6078         0         0  \n",
       "18329        0         0  \n",
       "16916   176362   2592363  \n",
       "21989    35128     32994  \n",
       "22190        0         0  \n",
       "18742    10181    209186  \n",
       "15953   104975   1943717  \n",
       "11103    63972   3941951  \n",
       "8658    175790   3732492  \n",
       "17437   619998  15331296  "
      ]
     },
     "execution_count": 3,
     "metadata": {},
     "output_type": "execute_result"
    }
   ],
   "source": [
    "data = pd.read_csv(\"inec_encuesta-estructural-emprresarial_establecimientos_2019.csv\", delimiter=';')\n",
    "data.sample(15)"
   ]
  },
  {
   "cell_type": "code",
   "execution_count": 4,
   "id": "9d0eabe4-97f7-44bf-8341-75d3d243f6b2",
   "metadata": {},
   "outputs": [
    {
     "name": "stdout",
     "output_type": "stream",
     "text": [
      "<class 'pandas.core.frame.DataFrame'>\n",
      "RangeIndex: 23524 entries, 0 to 23523\n",
      "Data columns (total 10 columns):\n",
      " #   Column                    Non-Null Count  Dtype \n",
      "---  ------                    --------------  ----- \n",
      " 0   id_empresa                23524 non-null  int64 \n",
      " 1   tipo_establecimiento_cod  23524 non-null  object\n",
      " 2   tipo_establecimiento      23524 non-null  object\n",
      " 3   provincia_cod             23524 non-null  object\n",
      " 4   provincia_desc            23524 non-null  object\n",
      " 5   ciiu_cod                  23524 non-null  object\n",
      " 6   ciiu_desc                 23524 non-null  object\n",
      " 7   personal_ocupado          23524 non-null  int64 \n",
      " 8   sueldos                   23524 non-null  int64 \n",
      " 9   ventas                    23524 non-null  int64 \n",
      "dtypes: int64(4), object(6)\n",
      "memory usage: 1.8+ MB\n"
     ]
    }
   ],
   "source": [
    "data.info()"
   ]
  },
  {
   "cell_type": "code",
   "execution_count": 5,
   "id": "940a03c6-30eb-4f59-b812-5a4425dd985f",
   "metadata": {},
   "outputs": [
    {
     "data": {
      "text/plain": [
       "(23524, 10)"
      ]
     },
     "execution_count": 5,
     "metadata": {},
     "output_type": "execute_result"
    }
   ],
   "source": [
    "data.shape"
   ]
  },
  {
   "cell_type": "code",
   "execution_count": 6,
   "id": "f14c698b-aec3-43ad-a45b-03fa93fb3d32",
   "metadata": {},
   "outputs": [],
   "source": [
    "data.drop(columns=['id_empresa'], inplace=True) "
   ]
  },
  {
   "cell_type": "code",
   "execution_count": 7,
   "id": "110676a6-029b-4951-bfe5-a2f167cd7d32",
   "metadata": {},
   "outputs": [
    {
     "data": {
      "text/plain": [
       "Index(['tipo_establecimiento_cod', 'tipo_establecimiento', 'provincia_cod',\n",
       "       'provincia_desc', 'ciiu_cod', 'ciiu_desc', 'personal_ocupado',\n",
       "       'sueldos', 'ventas'],\n",
       "      dtype='object')"
      ]
     },
     "execution_count": 7,
     "metadata": {},
     "output_type": "execute_result"
    }
   ],
   "source": [
    "data.columns"
   ]
  },
  {
   "cell_type": "code",
   "execution_count": 8,
   "id": "8870508d-f697-4eb7-9389-1a4c22b92550",
   "metadata": {},
   "outputs": [],
   "source": [
    "# Reemplaza los espacios en blanco (' ') con NaN\n",
    "#data.replace(' ', np.nan, inplace=True)\n",
    "\n",
    "# Reemplaza las cadenas vacías ('') con NaN\n",
    "#data.replace('', np.nan, inplace=True)\n",
    "\n",
    "# Elimina las filas con al menos un valor faltante (NaN)\n",
    "#data_cleaned = data.dropna().copy()\n",
    "\n",
    "# Imprime el número de filas antes y después de la limpieza\n",
    "#print(\"Número de filas antes de limpieza:\", len(data))\n",
    "#print(\"Número de filas después de limpieza:\", len(data_cleaned))"
   ]
  },
  {
   "cell_type": "code",
   "execution_count": 9,
   "id": "79efe476-20aa-407d-8140-d4ba7006d0b5",
   "metadata": {},
   "outputs": [
    {
     "name": "stdout",
     "output_type": "stream",
     "text": [
      "Número de filas antes de eliminación: 23524\n",
      "Número de filas después de limpieza: 21695\n"
     ]
    }
   ],
   "source": [
    "# Elimina las filas en las que al menos una columna contenga un espacio en blanco o cadena vacía\n",
    "data_cleaned = data[~(data == ' ').any(axis=1) & ~(data == '').any(axis=1)].copy()\n",
    "\n",
    "# Imprime el número de filas antes y después de la eliminación\n",
    "print(\"Número de filas antes de eliminación:\", len(data))\n",
    "print(\"Número de filas después de limpieza:\", len(data_cleaned))"
   ]
  },
  {
   "cell_type": "code",
   "execution_count": 10,
   "id": "1eb80b19-ce7b-4b50-902f-33ed2c0ea423",
   "metadata": {},
   "outputs": [],
   "source": [
    "# Aplica strip() a todas las celdas del DataFrame para eliminar espacios en blanco\n",
    "data = data.applymap(lambda x: x.strip() if isinstance(x, str) else x)"
   ]
  },
  {
   "cell_type": "code",
   "execution_count": 11,
   "id": "761c1c64-9d3c-40db-8e69-2724b66ef086",
   "metadata": {},
   "outputs": [
    {
     "data": {
      "text/html": [
       "<div>\n",
       "<style scoped>\n",
       "    .dataframe tbody tr th:only-of-type {\n",
       "        vertical-align: middle;\n",
       "    }\n",
       "\n",
       "    .dataframe tbody tr th {\n",
       "        vertical-align: top;\n",
       "    }\n",
       "\n",
       "    .dataframe thead th {\n",
       "        text-align: right;\n",
       "    }\n",
       "</style>\n",
       "<table border=\"1\" class=\"dataframe\">\n",
       "  <thead>\n",
       "    <tr style=\"text-align: right;\">\n",
       "      <th></th>\n",
       "      <th>tipo_establecimiento_cod</th>\n",
       "      <th>tipo_establecimiento</th>\n",
       "      <th>provincia_cod</th>\n",
       "      <th>provincia_desc</th>\n",
       "      <th>ciiu_cod</th>\n",
       "      <th>ciiu_desc</th>\n",
       "      <th>personal_ocupado</th>\n",
       "      <th>sueldos</th>\n",
       "      <th>ventas</th>\n",
       "    </tr>\n",
       "  </thead>\n",
       "  <tbody>\n",
       "    <tr>\n",
       "      <th>0</th>\n",
       "      <td>Matriz</td>\n",
       "      <td>Matriz</td>\n",
       "      <td>AZUAY</td>\n",
       "      <td>AZUAY</td>\n",
       "      <td>VENTA AL POR MAYOR DE ALIMENTOS, BEBIDAS Y TAB...</td>\n",
       "      <td>Venta al por mayor de alimentos, bebidas y tab...</td>\n",
       "      <td>69</td>\n",
       "      <td>600616</td>\n",
       "      <td>9913036</td>\n",
       "    </tr>\n",
       "    <tr>\n",
       "      <th>1</th>\n",
       "      <td>Auxiliar</td>\n",
       "      <td>Auxiliar</td>\n",
       "      <td>AZUAY</td>\n",
       "      <td>AZUAY</td>\n",
       "      <td></td>\n",
       "      <td></td>\n",
       "      <td>0</td>\n",
       "      <td>0</td>\n",
       "      <td>0</td>\n",
       "    </tr>\n",
       "    <tr>\n",
       "      <th>2</th>\n",
       "      <td>Único</td>\n",
       "      <td>Único</td>\n",
       "      <td>AZUAY</td>\n",
       "      <td>AZUAY</td>\n",
       "      <td>VENTA AL POR MENOR DE OTROS PRODUCTOS NUEVOS E...</td>\n",
       "      <td>Venta al por menor de otros productos nuevos e...</td>\n",
       "      <td>7</td>\n",
       "      <td>66000</td>\n",
       "      <td>2117598</td>\n",
       "    </tr>\n",
       "    <tr>\n",
       "      <th>3</th>\n",
       "      <td>Único</td>\n",
       "      <td>Único</td>\n",
       "      <td>AZUAY</td>\n",
       "      <td>AZUAY</td>\n",
       "      <td>VENTA AL POR MENOR DE COMBUSTIBLES PARA VEHÍCU...</td>\n",
       "      <td>Venta al por menor de combustibles para vehícu...</td>\n",
       "      <td>30</td>\n",
       "      <td>298257</td>\n",
       "      <td>6664329</td>\n",
       "    </tr>\n",
       "    <tr>\n",
       "      <th>4</th>\n",
       "      <td>Único</td>\n",
       "      <td>Único</td>\n",
       "      <td>AZUAY</td>\n",
       "      <td>AZUAY</td>\n",
       "      <td>FABRICACIÓN DE PRODUCTOS DE PLÁSTICO.</td>\n",
       "      <td>Fabricación de productos de plástico.</td>\n",
       "      <td>45</td>\n",
       "      <td>319010</td>\n",
       "      <td>1724784</td>\n",
       "    </tr>\n",
       "  </tbody>\n",
       "</table>\n",
       "</div>"
      ],
      "text/plain": [
       "  tipo_establecimiento_cod tipo_establecimiento provincia_cod provincia_desc  \\\n",
       "0                   Matriz               Matriz         AZUAY          AZUAY   \n",
       "1                 Auxiliar             Auxiliar         AZUAY          AZUAY   \n",
       "2                    Único                Único         AZUAY          AZUAY   \n",
       "3                    Único                Único         AZUAY          AZUAY   \n",
       "4                    Único                Único         AZUAY          AZUAY   \n",
       "\n",
       "                                            ciiu_cod  \\\n",
       "0  VENTA AL POR MAYOR DE ALIMENTOS, BEBIDAS Y TAB...   \n",
       "1                                                      \n",
       "2  VENTA AL POR MENOR DE OTROS PRODUCTOS NUEVOS E...   \n",
       "3  VENTA AL POR MENOR DE COMBUSTIBLES PARA VEHÍCU...   \n",
       "4              FABRICACIÓN DE PRODUCTOS DE PLÁSTICO.   \n",
       "\n",
       "                                           ciiu_desc  personal_ocupado  \\\n",
       "0  Venta al por mayor de alimentos, bebidas y tab...                69   \n",
       "1                                                                    0   \n",
       "2  Venta al por menor de otros productos nuevos e...                 7   \n",
       "3  Venta al por menor de combustibles para vehícu...                30   \n",
       "4              Fabricación de productos de plástico.                45   \n",
       "\n",
       "   sueldos   ventas  \n",
       "0   600616  9913036  \n",
       "1        0        0  \n",
       "2    66000  2117598  \n",
       "3   298257  6664329  \n",
       "4   319010  1724784  "
      ]
     },
     "execution_count": 11,
     "metadata": {},
     "output_type": "execute_result"
    }
   ],
   "source": [
    "data.head()"
   ]
  },
  {
   "cell_type": "code",
   "execution_count": 12,
   "id": "644bfada-8dc8-4477-87b1-385ca9ce6fe7",
   "metadata": {},
   "outputs": [
    {
     "data": {
      "text/html": [
       "<div>\n",
       "<style scoped>\n",
       "    .dataframe tbody tr th:only-of-type {\n",
       "        vertical-align: middle;\n",
       "    }\n",
       "\n",
       "    .dataframe tbody tr th {\n",
       "        vertical-align: top;\n",
       "    }\n",
       "\n",
       "    .dataframe thead th {\n",
       "        text-align: right;\n",
       "    }\n",
       "</style>\n",
       "<table border=\"1\" class=\"dataframe\">\n",
       "  <thead>\n",
       "    <tr style=\"text-align: right;\">\n",
       "      <th></th>\n",
       "      <th>tipo_establecimiento_cod</th>\n",
       "      <th>tipo_establecimiento</th>\n",
       "      <th>provincia_cod</th>\n",
       "      <th>provincia_desc</th>\n",
       "      <th>ciiu_cod</th>\n",
       "      <th>ciiu_desc</th>\n",
       "      <th>personal_ocupado</th>\n",
       "      <th>sueldos</th>\n",
       "      <th>ventas</th>\n",
       "    </tr>\n",
       "  </thead>\n",
       "  <tbody>\n",
       "    <tr>\n",
       "      <th>0</th>\n",
       "      <td>Matriz</td>\n",
       "      <td>Matriz</td>\n",
       "      <td>AZUAY</td>\n",
       "      <td>AZUAY</td>\n",
       "      <td>VENTA AL POR MAYOR DE ALIMENTOS, BEBIDAS Y TAB...</td>\n",
       "      <td>Venta al por mayor de alimentos, bebidas y tab...</td>\n",
       "      <td>69</td>\n",
       "      <td>600616</td>\n",
       "      <td>9913036</td>\n",
       "    </tr>\n",
       "    <tr>\n",
       "      <th>2</th>\n",
       "      <td>Único</td>\n",
       "      <td>Único</td>\n",
       "      <td>AZUAY</td>\n",
       "      <td>AZUAY</td>\n",
       "      <td>VENTA AL POR MENOR DE OTROS PRODUCTOS NUEVOS E...</td>\n",
       "      <td>Venta al por menor de otros productos nuevos e...</td>\n",
       "      <td>7</td>\n",
       "      <td>66000</td>\n",
       "      <td>2117598</td>\n",
       "    </tr>\n",
       "    <tr>\n",
       "      <th>3</th>\n",
       "      <td>Único</td>\n",
       "      <td>Único</td>\n",
       "      <td>AZUAY</td>\n",
       "      <td>AZUAY</td>\n",
       "      <td>VENTA AL POR MENOR DE COMBUSTIBLES PARA VEHÍCU...</td>\n",
       "      <td>Venta al por menor de combustibles para vehícu...</td>\n",
       "      <td>30</td>\n",
       "      <td>298257</td>\n",
       "      <td>6664329</td>\n",
       "    </tr>\n",
       "    <tr>\n",
       "      <th>4</th>\n",
       "      <td>Único</td>\n",
       "      <td>Único</td>\n",
       "      <td>AZUAY</td>\n",
       "      <td>AZUAY</td>\n",
       "      <td>FABRICACIÓN DE PRODUCTOS DE PLÁSTICO.</td>\n",
       "      <td>Fabricación de productos de plástico.</td>\n",
       "      <td>45</td>\n",
       "      <td>319010</td>\n",
       "      <td>1724784</td>\n",
       "    </tr>\n",
       "    <tr>\n",
       "      <th>5</th>\n",
       "      <td>Único</td>\n",
       "      <td>Único</td>\n",
       "      <td>AZUAY</td>\n",
       "      <td>AZUAY</td>\n",
       "      <td>ACTIVIDADES DE RESTAURANTES Y DE SERVICIO MÓVI...</td>\n",
       "      <td>Actividades de restaurantes y de servicio móvi...</td>\n",
       "      <td>24</td>\n",
       "      <td>193291</td>\n",
       "      <td>1300985</td>\n",
       "    </tr>\n",
       "  </tbody>\n",
       "</table>\n",
       "</div>"
      ],
      "text/plain": [
       "  tipo_establecimiento_cod tipo_establecimiento provincia_cod provincia_desc  \\\n",
       "0                   Matriz               Matriz         AZUAY          AZUAY   \n",
       "2                    Único                Único         AZUAY          AZUAY   \n",
       "3                    Único                Único         AZUAY          AZUAY   \n",
       "4                    Único                Único         AZUAY          AZUAY   \n",
       "5                    Único                Único         AZUAY          AZUAY   \n",
       "\n",
       "                                            ciiu_cod  \\\n",
       "0  VENTA AL POR MAYOR DE ALIMENTOS, BEBIDAS Y TAB...   \n",
       "2  VENTA AL POR MENOR DE OTROS PRODUCTOS NUEVOS E...   \n",
       "3  VENTA AL POR MENOR DE COMBUSTIBLES PARA VEHÍCU...   \n",
       "4              FABRICACIÓN DE PRODUCTOS DE PLÁSTICO.   \n",
       "5  ACTIVIDADES DE RESTAURANTES Y DE SERVICIO MÓVI...   \n",
       "\n",
       "                                           ciiu_desc  personal_ocupado  \\\n",
       "0  Venta al por mayor de alimentos, bebidas y tab...                69   \n",
       "2  Venta al por menor de otros productos nuevos e...                 7   \n",
       "3  Venta al por menor de combustibles para vehícu...                30   \n",
       "4              Fabricación de productos de plástico.                45   \n",
       "5  Actividades de restaurantes y de servicio móvi...                24   \n",
       "\n",
       "   sueldos   ventas  \n",
       "0   600616  9913036  \n",
       "2    66000  2117598  \n",
       "3   298257  6664329  \n",
       "4   319010  1724784  \n",
       "5   193291  1300985  "
      ]
     },
     "execution_count": 12,
     "metadata": {},
     "output_type": "execute_result"
    }
   ],
   "source": [
    "data_cleaned.head()"
   ]
  },
  {
   "cell_type": "code",
   "execution_count": 13,
   "id": "cda9ce1a-4741-4392-bb68-2306c133d905",
   "metadata": {},
   "outputs": [],
   "source": [
    "# Elimina las filas con al menos un valor faltante (NaN)\n",
    "#data_cleaned = data.dropna().copy()"
   ]
  },
  {
   "cell_type": "code",
   "execution_count": 13,
   "id": "ee5581e1-4303-4f9f-856c-ac47cb420406",
   "metadata": {},
   "outputs": [],
   "source": [
    "#missing_values_count = data.isna().sum()\n",
    "#print(missing_values_count)"
   ]
  },
  {
   "cell_type": "code",
   "execution_count": 14,
   "id": "2e7cb726-bf95-49e8-9d54-cbf2db4bc74d",
   "metadata": {},
   "outputs": [
    {
     "data": {
      "text/plain": [
       "VENTA AL POR MENOR DE PRODUCTOS FARMACÉUTICOS Y MEDICINALES, COSMÉTICOS Y ARTÍCULOS DE TOCADOR EN COMERCIOS ESPECIALI    2582\n",
       "VENTA AL POR MAYOR DE OTROS ENSERES DOMÉSTICOS.                                                                          1151\n",
       "ACTIVIDADES DE RESTAURANTES Y DE SERVICIO MÓVIL DE COMIDAS.                                                              1125\n",
       "VENTA AL POR MENOR DE APARATOS ELÉCTRICOS DE USO DOMÉSTICO, MUEBLES, EQUIPO DE ILUMINACIÓN Y OTROS ENSERES DOMÉSTICO      896\n",
       "VENTA AL POR MENOR EN COMERCIOS NO ESPECIALIZADOS CON PREDOMINIO DE LA VENTA DE ALIMENTOS, BEBIDAS O TABACO.              771\n",
       "                                                                                                                         ... \n",
       "OTRAS ACTIVIDADES DE TECNOLOGÍA DE LA INFORMACIÓN Y DE SERVICIOS INFORMÁTICOS.                                              1\n",
       "FABRICACIÓN DE GAS; DISTRIBUCIÓN DE COMBUSTIBLES GASEOSOS POR TUBERÍAS.                                                     1\n",
       "FABRICACIÓN DE EQUIPO ELÉCTRICO DE ILUMINACIÓN.                                                                             1\n",
       "TRANSMISIONES DE RADIO.                                                                                                     1\n",
       "FABRICACIÓN DE PARTES Y PIEZAS DE CARPINTERÍA PARA EDIFICIOS Y CONSTRUCCIONES.                                              1\n",
       "Name: ciiu_cod, Length: 264, dtype: int64"
      ]
     },
     "execution_count": 14,
     "metadata": {},
     "output_type": "execute_result"
    }
   ],
   "source": [
    "data_cleaned['ciiu_cod'].value_counts()"
   ]
  },
  {
   "cell_type": "code",
   "execution_count": 15,
   "id": "6cf2d4b1-7e84-41b6-a106-31308006b793",
   "metadata": {},
   "outputs": [
    {
     "data": {
      "text/plain": [
       "Venta al por menor de productos farmacéuticos y medicinales, cosméticos y artículos de tocador en comercios especializados.                           2582\n",
       "Venta al por mayor de otros enseres domésticos.                                                                                                       1151\n",
       "Actividades de restaurantes y de servicio móvil de comidas.                                                                                           1125\n",
       "Venta al por menor de aparatos eléctricos de uso doméstico, muebles, equipo de iluminación y otros enseres domésticos en comercios especializados.     896\n",
       "Venta al por menor en comercios no especializados con predominio de la venta de alimentos, bebidas o tabaco.                                           771\n",
       "                                                                                                                                                      ... \n",
       "Otras actividades de tecnología de la información y de servicios informáticos.                                                                           1\n",
       "Fabricación de gas; distribución de combustibles gaseosos por tuberías.                                                                                  1\n",
       "Fabricación de equipo eléctrico de iluminación.                                                                                                          1\n",
       "Transmisiones de radio.                                                                                                                                  1\n",
       "Fabricación de partes y piezas de carpintería para edificios y construcciones.                                                                           1\n",
       "Name: ciiu_desc, Length: 264, dtype: int64"
      ]
     },
     "execution_count": 15,
     "metadata": {},
     "output_type": "execute_result"
    }
   ],
   "source": [
    "data_cleaned['ciiu_desc'].value_counts()"
   ]
  },
  {
   "cell_type": "code",
   "execution_count": 14,
   "id": "e649714b-7fc7-4be8-86d6-c311c7e3046d",
   "metadata": {},
   "outputs": [
    {
     "data": {
      "text/plain": [
       "GUAYAS                           6578\n",
       "PICHINCHA                        6158\n",
       "MANABÍ                           1553\n",
       "AZUAY                            1281\n",
       "EL ORO                            820\n",
       "LOS RÍOS                          766\n",
       "TUNGURAHUA                        686\n",
       "STO. DOMINGO DE LOS TSÁCHILAS     644\n",
       "IMBABURA                          453\n",
       "LOJA                              388\n",
       "ESMERALDAS                        346\n",
       "CHIMBORAZO                        296\n",
       "SANTA ELENA                       276\n",
       "COTOPAXI                          262\n",
       "ORELLANA                          214\n",
       "SUCUMBÍOS                         214\n",
       "CAÑAR                             175\n",
       "CARCHI                            126\n",
       "BOLÍVAR                            90\n",
       "ZAMORA CHINCHIPE                   77\n",
       "MORONA SANTIAGO                    76\n",
       "GALÁPAGOS                          73\n",
       "PASTAZA                            72\n",
       "NAPO                               71\n",
       "Name: provincia_desc, dtype: int64"
      ]
     },
     "execution_count": 14,
     "metadata": {},
     "output_type": "execute_result"
    }
   ],
   "source": [
    "data_cleaned['provincia_desc'].value_counts()"
   ]
  },
  {
   "cell_type": "code",
   "execution_count": 15,
   "id": "643b9a35-52e9-40f4-898c-68a3e4a1723a",
   "metadata": {},
   "outputs": [
    {
     "data": {
      "text/plain": [
       "GUAYAS                           6578\n",
       "PICHINCHA                        6158\n",
       "MANABI                           1553\n",
       "AZUAY                            1281\n",
       "EL ORO                            820\n",
       "LOS RIOS                          766\n",
       "TUNGURAHUA                        686\n",
       "STO. DOMINGO DE LOS TSACHILAS     644\n",
       "IMBABURA                          453\n",
       "LOJA                              388\n",
       "ESMERALDAS                        346\n",
       "CHIMBORAZO                        296\n",
       "SANTA ELENA                       276\n",
       "COTOPAXI                          262\n",
       "ORELLANA                          214\n",
       "SUCUMBIOS                         214\n",
       "CAÑAR                             175\n",
       "CARCHI                            126\n",
       "BOLIVAR                            90\n",
       "ZAMORA CHINCHIPE                   77\n",
       "MORONA SANTIAGO                    76\n",
       "GALAPAGOS                          73\n",
       "PASTAZA                            72\n",
       "NAPO                               71\n",
       "Name: provincia_cod, dtype: int64"
      ]
     },
     "execution_count": 15,
     "metadata": {},
     "output_type": "execute_result"
    }
   ],
   "source": [
    "data_cleaned['provincia_cod'].value_counts()"
   ]
  },
  {
   "cell_type": "code",
   "execution_count": 16,
   "id": "e8b81f6b-2611-4302-8305-7d161e5a8ef8",
   "metadata": {},
   "outputs": [
    {
     "data": {
      "text/plain": [
       "Sucursal    17916\n",
       "Matriz       2447\n",
       "Único        1332\n",
       "Name: tipo_establecimiento_cod, dtype: int64"
      ]
     },
     "execution_count": 16,
     "metadata": {},
     "output_type": "execute_result"
    }
   ],
   "source": [
    "data_cleaned['tipo_establecimiento_cod'].value_counts()"
   ]
  },
  {
   "cell_type": "code",
   "execution_count": 17,
   "id": "fa94c15b-cf1b-40c8-92b0-2507f7c41d91",
   "metadata": {},
   "outputs": [
    {
     "data": {
      "text/plain": [
       "Sucursal    17916\n",
       "Matriz       2447\n",
       "Único        1332\n",
       "Name: tipo_establecimiento, dtype: int64"
      ]
     },
     "execution_count": 17,
     "metadata": {},
     "output_type": "execute_result"
    }
   ],
   "source": [
    "data_cleaned['tipo_establecimiento'].value_counts()"
   ]
  },
  {
   "cell_type": "code",
   "execution_count": 18,
   "id": "df7b41eb-79f1-4cc9-a051-c4859319ccbe",
   "metadata": {},
   "outputs": [],
   "source": [
    "data_cleaned.drop(columns=['ciiu_cod', 'tipo_establecimiento_cod', 'provincia_cod'], inplace=True) "
   ]
  },
  {
   "cell_type": "code",
   "execution_count": 19,
   "id": "1668371e-f85e-4cd4-8205-d4f61445bba4",
   "metadata": {},
   "outputs": [
    {
     "data": {
      "text/plain": [
       "Index(['tipo_establecimiento', 'provincia_desc', 'ciiu_desc',\n",
       "       'personal_ocupado', 'sueldos', 'ventas'],\n",
       "      dtype='object')"
      ]
     },
     "execution_count": 19,
     "metadata": {},
     "output_type": "execute_result"
    }
   ],
   "source": [
    "data_cleaned.columns"
   ]
  },
  {
   "cell_type": "code",
   "execution_count": 20,
   "id": "3d1505e6-97f3-44f7-a6a8-b18a4cabb6cd",
   "metadata": {},
   "outputs": [
    {
     "data": {
      "text/html": [
       "<div>\n",
       "<style scoped>\n",
       "    .dataframe tbody tr th:only-of-type {\n",
       "        vertical-align: middle;\n",
       "    }\n",
       "\n",
       "    .dataframe tbody tr th {\n",
       "        vertical-align: top;\n",
       "    }\n",
       "\n",
       "    .dataframe thead th {\n",
       "        text-align: right;\n",
       "    }\n",
       "</style>\n",
       "<table border=\"1\" class=\"dataframe\">\n",
       "  <thead>\n",
       "    <tr style=\"text-align: right;\">\n",
       "      <th></th>\n",
       "      <th>tipo_establecimiento</th>\n",
       "      <th>provincia_desc</th>\n",
       "      <th>ciiu_desc</th>\n",
       "      <th>personal_ocupado</th>\n",
       "      <th>sueldos</th>\n",
       "      <th>ventas</th>\n",
       "    </tr>\n",
       "  </thead>\n",
       "  <tbody>\n",
       "    <tr>\n",
       "      <th>21576</th>\n",
       "      <td>Sucursal</td>\n",
       "      <td>PICHINCHA</td>\n",
       "      <td>Actividades de telecomunicaciones alámbrica.</td>\n",
       "      <td>1</td>\n",
       "      <td>6987</td>\n",
       "      <td>39898</td>\n",
       "    </tr>\n",
       "    <tr>\n",
       "      <th>2854</th>\n",
       "      <td>Sucursal</td>\n",
       "      <td>LOS RÍOS</td>\n",
       "      <td>Venta al por menor en comercios no especializa...</td>\n",
       "      <td>22</td>\n",
       "      <td>112079</td>\n",
       "      <td>1773209</td>\n",
       "    </tr>\n",
       "    <tr>\n",
       "      <th>13354</th>\n",
       "      <td>Sucursal</td>\n",
       "      <td>SUCUMBÍOS</td>\n",
       "      <td>Actividades de consultoría de gestión.</td>\n",
       "      <td>7</td>\n",
       "      <td>56348</td>\n",
       "      <td>412723</td>\n",
       "    </tr>\n",
       "    <tr>\n",
       "      <th>22059</th>\n",
       "      <td>Sucursal</td>\n",
       "      <td>GUAYAS</td>\n",
       "      <td>Generación, transmisión y distribución de ener...</td>\n",
       "      <td>0</td>\n",
       "      <td>0</td>\n",
       "      <td>0</td>\n",
       "    </tr>\n",
       "    <tr>\n",
       "      <th>19019</th>\n",
       "      <td>Sucursal</td>\n",
       "      <td>GUAYAS</td>\n",
       "      <td>Otras actividades de venta al por menor no rea...</td>\n",
       "      <td>0</td>\n",
       "      <td>0</td>\n",
       "      <td>124698</td>\n",
       "    </tr>\n",
       "  </tbody>\n",
       "</table>\n",
       "</div>"
      ],
      "text/plain": [
       "      tipo_establecimiento provincia_desc  \\\n",
       "21576             Sucursal      PICHINCHA   \n",
       "2854              Sucursal       LOS RÍOS   \n",
       "13354             Sucursal      SUCUMBÍOS   \n",
       "22059             Sucursal         GUAYAS   \n",
       "19019             Sucursal         GUAYAS   \n",
       "\n",
       "                                               ciiu_desc  personal_ocupado  \\\n",
       "21576       Actividades de telecomunicaciones alámbrica.                 1   \n",
       "2854   Venta al por menor en comercios no especializa...                22   \n",
       "13354             Actividades de consultoría de gestión.                 7   \n",
       "22059  Generación, transmisión y distribución de ener...                 0   \n",
       "19019  Otras actividades de venta al por menor no rea...                 0   \n",
       "\n",
       "       sueldos   ventas  \n",
       "21576     6987    39898  \n",
       "2854    112079  1773209  \n",
       "13354    56348   412723  \n",
       "22059        0        0  \n",
       "19019        0   124698  "
      ]
     },
     "execution_count": 20,
     "metadata": {},
     "output_type": "execute_result"
    }
   ],
   "source": [
    "data.sample(10)\n",
    "data_cleaned.sample(5)"
   ]
  },
  {
   "cell_type": "code",
   "execution_count": 21,
   "id": "63d9b691-87d6-40d0-baff-f6966700f615",
   "metadata": {},
   "outputs": [],
   "source": [
    "# Convertir las variables categóricas a tipo 'category'\n",
    "data_cleaned['tipo_establecimiento'] = data_cleaned['tipo_establecimiento'].astype('category')\n",
    "data_cleaned['provincia_desc'] = data_cleaned['provincia_desc'].astype('category')\n",
    "data_cleaned['ciiu_desc'] = data_cleaned['ciiu_desc'].astype('category')\n",
    "\n",
    "# Definir nuevas asignaciones de categorías basadas en los resultados de value_counts()\n",
    "provincia_desc_categories = {\n",
    "'GUAYAS': 0,\n",
    "'PICHINCHA': 1,\n",
    "'MANABÍ': 3,\n",
    "'AZUAY': 4,\n",
    "'EL ORO': 5,\n",
    "'LOS RÍOS': 6,\n",
    "'TUNGURAHUA': 7,\n",
    "'STO. DOMINGO DE LOS TSÁCHILAS': 8,\n",
    "'IMBABURA': 9,\n",
    "'LOJA': 10,\n",
    "'ESMERALDAS': 11,\n",
    "'CHIMBORAZO': 12,\n",
    "'SANTA ELENA': 13,\n",
    "'COTOPAXI': 14,\n",
    "'ORELLANA': 15,\n",
    "'SUCUMBÍOS': 16,\n",
    "'CAÑAR': 17,\n",
    "'CARCHI': 18,\n",
    "'BOLÍVAR': 19,\n",
    "'ZAMORA CHINCHIPE': 20,\n",
    "'MORONA SANTIAGO': 21,\n",
    "'GALÁPAGOS': 22,\n",
    "'PASTAZA': 23,\n",
    "'NAPO': 24,\n",
    "}\n",
    "\n",
    "###############################################\n",
    "###############################################\n",
    "\n",
    "# Obtener los valores únicos de tipo_establecimiento\n",
    "unique_tipo_establecimiento = data_cleaned['tipo_establecimiento'].unique()\n",
    "\n",
    "# Crear el diccionario 'tipo_establecimientor_categories' usando un bucle for\n",
    "tipo_establecimientor_categories = {}\n",
    "for index, tipo_establecimiento in enumerate(unique_tipo_establecimiento):\n",
    "    tipo_establecimientor_categories[tipo_establecimiento] = index\n",
    "    \n",
    "###############################################\n",
    "###############################################\n",
    "\n",
    "# Obtener los valores únicos de tipo_establecimiento\n",
    "unique_ciiu_desc = data_cleaned['ciiu_desc'].unique()\n",
    "\n",
    "# Crear el diccionario 'ciiu_desc_categories' usando un bucle for\n",
    "ciiu_desc_categories = {}\n",
    "for index, ciiu_desc in enumerate(unique_ciiu_desc):\n",
    "    ciiu_desc_categories[ciiu_desc] = index"
   ]
  },
  {
   "cell_type": "code",
   "execution_count": 22,
   "id": "08b6be84-0898-4a66-853d-7d2ad9854a1a",
   "metadata": {},
   "outputs": [
    {
     "data": {
      "text/html": [
       "<div>\n",
       "<style scoped>\n",
       "    .dataframe tbody tr th:only-of-type {\n",
       "        vertical-align: middle;\n",
       "    }\n",
       "\n",
       "    .dataframe tbody tr th {\n",
       "        vertical-align: top;\n",
       "    }\n",
       "\n",
       "    .dataframe thead th {\n",
       "        text-align: right;\n",
       "    }\n",
       "</style>\n",
       "<table border=\"1\" class=\"dataframe\">\n",
       "  <thead>\n",
       "    <tr style=\"text-align: right;\">\n",
       "      <th></th>\n",
       "      <th>tipo_establecimiento</th>\n",
       "      <th>provincia_desc</th>\n",
       "      <th>ciiu_desc</th>\n",
       "      <th>personal_ocupado</th>\n",
       "      <th>sueldos</th>\n",
       "      <th>ventas</th>\n",
       "    </tr>\n",
       "  </thead>\n",
       "  <tbody>\n",
       "    <tr>\n",
       "      <th>17170</th>\n",
       "      <td>2</td>\n",
       "      <td>4</td>\n",
       "      <td>26</td>\n",
       "      <td>4</td>\n",
       "      <td>33692</td>\n",
       "      <td>155265</td>\n",
       "    </tr>\n",
       "    <tr>\n",
       "      <th>7854</th>\n",
       "      <td>2</td>\n",
       "      <td>3</td>\n",
       "      <td>10</td>\n",
       "      <td>2</td>\n",
       "      <td>8077</td>\n",
       "      <td>311372</td>\n",
       "    </tr>\n",
       "    <tr>\n",
       "      <th>7197</th>\n",
       "      <td>2</td>\n",
       "      <td>10</td>\n",
       "      <td>10</td>\n",
       "      <td>6</td>\n",
       "      <td>42881</td>\n",
       "      <td>523716</td>\n",
       "    </tr>\n",
       "    <tr>\n",
       "      <th>19826</th>\n",
       "      <td>2</td>\n",
       "      <td>1</td>\n",
       "      <td>28</td>\n",
       "      <td>0</td>\n",
       "      <td>0</td>\n",
       "      <td>0</td>\n",
       "    </tr>\n",
       "    <tr>\n",
       "      <th>13514</th>\n",
       "      <td>2</td>\n",
       "      <td>0</td>\n",
       "      <td>4</td>\n",
       "      <td>14</td>\n",
       "      <td>47300</td>\n",
       "      <td>597017</td>\n",
       "    </tr>\n",
       "    <tr>\n",
       "      <th>23121</th>\n",
       "      <td>1</td>\n",
       "      <td>6</td>\n",
       "      <td>65</td>\n",
       "      <td>0</td>\n",
       "      <td>0</td>\n",
       "      <td>4376060</td>\n",
       "    </tr>\n",
       "    <tr>\n",
       "      <th>20902</th>\n",
       "      <td>2</td>\n",
       "      <td>4</td>\n",
       "      <td>6</td>\n",
       "      <td>10</td>\n",
       "      <td>169330</td>\n",
       "      <td>176427</td>\n",
       "    </tr>\n",
       "    <tr>\n",
       "      <th>133</th>\n",
       "      <td>2</td>\n",
       "      <td>6</td>\n",
       "      <td>11</td>\n",
       "      <td>30</td>\n",
       "      <td>408672</td>\n",
       "      <td>1742298</td>\n",
       "    </tr>\n",
       "    <tr>\n",
       "      <th>22397</th>\n",
       "      <td>2</td>\n",
       "      <td>0</td>\n",
       "      <td>10</td>\n",
       "      <td>2</td>\n",
       "      <td>12659</td>\n",
       "      <td>156599</td>\n",
       "    </tr>\n",
       "    <tr>\n",
       "      <th>12458</th>\n",
       "      <td>2</td>\n",
       "      <td>1</td>\n",
       "      <td>10</td>\n",
       "      <td>3</td>\n",
       "      <td>39766</td>\n",
       "      <td>425592</td>\n",
       "    </tr>\n",
       "  </tbody>\n",
       "</table>\n",
       "</div>"
      ],
      "text/plain": [
       "       tipo_establecimiento  provincia_desc  ciiu_desc  personal_ocupado  \\\n",
       "17170                     2               4         26                 4   \n",
       "7854                      2               3         10                 2   \n",
       "7197                      2              10         10                 6   \n",
       "19826                     2               1         28                 0   \n",
       "13514                     2               0          4                14   \n",
       "23121                     1               6         65                 0   \n",
       "20902                     2               4          6                10   \n",
       "133                       2               6         11                30   \n",
       "22397                     2               0         10                 2   \n",
       "12458                     2               1         10                 3   \n",
       "\n",
       "       sueldos   ventas  \n",
       "17170    33692   155265  \n",
       "7854      8077   311372  \n",
       "7197     42881   523716  \n",
       "19826        0        0  \n",
       "13514    47300   597017  \n",
       "23121        0  4376060  \n",
       "20902   169330   176427  \n",
       "133     408672  1742298  \n",
       "22397    12659   156599  \n",
       "12458    39766   425592  "
      ]
     },
     "execution_count": 22,
     "metadata": {},
     "output_type": "execute_result"
    }
   ],
   "source": [
    "# Renombrar las categorías utilizando los nuevos códigos\n",
    "data_cleaned['tipo_establecimiento'] = data_cleaned['tipo_establecimiento'].cat.rename_categories(tipo_establecimientor_categories)\n",
    "data_cleaned['provincia_desc'] = data_cleaned['provincia_desc'].cat.rename_categories(provincia_desc_categories)\n",
    "data_cleaned['ciiu_desc'] = data_cleaned['ciiu_desc'].cat.rename_categories(ciiu_desc_categories)\n",
    "\n",
    "# Convertir las variables categóricas a enteros\n",
    "data_cleaned['tipo_establecimiento'] = data_cleaned['tipo_establecimiento'].astype('int64')\n",
    "data_cleaned['provincia_desc'] = data_cleaned['provincia_desc'].astype('int64')\n",
    "data_cleaned['ciiu_desc'] = data_cleaned['ciiu_desc'].astype('int64')\n",
    "\n",
    "# Mostrar una muestra de los datos transformados\n",
    "data_cleaned.sample(10)"
   ]
  },
  {
   "cell_type": "code",
   "execution_count": 23,
   "id": "df4aff2f-4cb9-4671-9093-3e42dc608b67",
   "metadata": {},
   "outputs": [
    {
     "name": "stdout",
     "output_type": "stream",
     "text": [
      "<class 'pandas.core.frame.DataFrame'>\n",
      "RangeIndex: 21695 entries, 0 to 21694\n",
      "Data columns (total 6 columns):\n",
      " #   Column                Non-Null Count  Dtype\n",
      "---  ------                --------------  -----\n",
      " 0   tipo_establecimiento  21695 non-null  int64\n",
      " 1   provincia_desc        21695 non-null  int64\n",
      " 2   ciiu_desc             21695 non-null  int64\n",
      " 3   personal_ocupado      21695 non-null  int64\n",
      " 4   sueldos               21695 non-null  int64\n",
      " 5   ventas                21695 non-null  int64\n",
      "dtypes: int64(6)\n",
      "memory usage: 1017.1 KB\n"
     ]
    }
   ],
   "source": [
    "# Mostrar una muestra de los datos transformados\n",
    "\n",
    "#data_cleaned=data_cleaned[data_cleaned['ventas']!=0]\n",
    "#data_cleaned=data_cleaned[data_cleaned['ventas']>0]\n",
    "data_cleaned = data_cleaned.reset_index(drop=True)\n",
    "data_cleaned.info()"
   ]
  },
  {
   "cell_type": "code",
   "execution_count": null,
   "id": "27fe1f24-613b-44c3-b3bb-69a7bf51905c",
   "metadata": {},
   "outputs": [],
   "source": []
  },
  {
   "cell_type": "code",
   "execution_count": 38,
   "id": "9d02324e-8234-4ded-8182-278d0f17e2de",
   "metadata": {},
   "outputs": [
    {
     "name": "stdout",
     "output_type": "stream",
     "text": [
      "3905\n",
      "<class 'pandas.core.frame.DataFrame'>\n",
      "Int64Index: 18609 entries, 1 to 21694\n",
      "Data columns (total 6 columns):\n",
      " #   Column                Non-Null Count  Dtype\n",
      "---  ------                --------------  -----\n",
      " 0   tipo_establecimiento  18609 non-null  int64\n",
      " 1   provincia_desc        18609 non-null  int64\n",
      " 2   ciiu_desc             18609 non-null  int64\n",
      " 3   personal_ocupado      18609 non-null  int64\n",
      " 4   sueldos               18609 non-null  int64\n",
      " 5   ventas                18609 non-null  int64\n",
      "dtypes: int64(6)\n",
      "memory usage: 1017.7 KB\n"
     ]
    }
   ],
   "source": [
    "#print((data_cleaned['ventas']==0).sum())\n",
    "print((data_cleaned['ventas']<=0).sum())\n",
    "# Calcula el Q1 y el Q3\n",
    "Q1 = data_cleaned['sueldos'].quantile(0.25)\n",
    "Q3 = data_cleaned['sueldos'].quantile(0.75)\n",
    "\n",
    "# Calcula el IQR\n",
    "IQR = Q3 - Q1\n",
    "\n",
    "# Define un umbral para los valores atípicos\n",
    "umbral_superior = Q3 + 1.5 * IQR\n",
    "umbral_inferior = Q1 - 1.5 * IQR\n",
    "\n",
    "# Elimina las filas con valores de sueldos por encima o por debajo del umbral\n",
    "data_cleaned = data_cleaned[(data_cleaned['sueldos'] >= umbral_inferior) & (data_cleaned['sueldos'] <= umbral_superior)]\n",
    "data_cleaned.info()"
   ]
  },
  {
   "cell_type": "code",
   "execution_count": 39,
   "id": "39929717-6d3b-475c-bdca-9a7e113a0270",
   "metadata": {},
   "outputs": [
    {
     "name": "stdout",
     "output_type": "stream",
     "text": [
      "<class 'pandas.core.frame.DataFrame'>\n",
      "Int64Index: 16175 entries, 1 to 21693\n",
      "Data columns (total 6 columns):\n",
      " #   Column                Non-Null Count  Dtype\n",
      "---  ------                --------------  -----\n",
      " 0   tipo_establecimiento  16175 non-null  int64\n",
      " 1   provincia_desc        16175 non-null  int64\n",
      " 2   ciiu_desc             16175 non-null  int64\n",
      " 3   personal_ocupado      16175 non-null  int64\n",
      " 4   sueldos               16175 non-null  int64\n",
      " 5   ventas                16175 non-null  int64\n",
      "dtypes: int64(6)\n",
      "memory usage: 884.6 KB\n"
     ]
    }
   ],
   "source": [
    "\n",
    "Q1 = data_cleaned['ventas'].quantile(0.25)\n",
    "Q3 = data_cleaned['ventas'].quantile(0.75)\n",
    "\n",
    "# Calcula el IQR\n",
    "IQR = Q3 - Q1\n",
    "\n",
    "# Define un umbral para los valores atípicos\n",
    "umbral_superior = Q3 + 1.5 * IQR\n",
    "umbral_inferior = Q1 - 1.5 * IQR\n",
    "\n",
    "# Elimina las filas con valores de sueldos por encima o por debajo del umbral\n",
    "data_cleaned = data_cleaned[(data_cleaned['ventas'] >= umbral_inferior) & (data_cleaned['ventas'] <= umbral_superior)]\n",
    "data_cleaned.info()"
   ]
  },
  {
   "cell_type": "markdown",
   "id": "4c8e3fe3-70c1-4cec-be68-1c21c3f0776a",
   "metadata": {},
   "source": [
    "### ENTRENAMIENTO DEL MODELO (REGRESION POLINOMIAL Y LINEAL)"
   ]
  },
  {
   "cell_type": "code",
   "execution_count": 24,
   "id": "92acb08d-9a10-4596-b0d0-29e57122080a",
   "metadata": {},
   "outputs": [],
   "source": [
    "from sklearn.preprocessing import PolynomialFeatures\n",
    "from sklearn.preprocessing import StandardScaler"
   ]
  },
  {
   "cell_type": "code",
   "execution_count": 25,
   "id": "34928bdc-95f8-4a6b-8ae2-0ce23023fc4d",
   "metadata": {},
   "outputs": [
    {
     "name": "stdout",
     "output_type": "stream",
     "text": [
      "[1.71302143e+00 3.63452408e+00 5.30510256e+01 3.23527080e+01\n",
      " 3.71477205e+05 4.98353529e+06] [6.55899230e-01 4.99081960e+00 5.50606213e+01 1.24544877e+02\n",
      " 1.73395121e+06 5.28045164e+07]\n"
     ]
    }
   ],
   "source": [
    "scaler = StandardScaler()\n",
    "data_cleaned_normalized=scaler.fit_transform(data_cleaned.select_dtypes(include=[np.number]))\n",
    "data_cleaned_normalized=pd.DataFrame(data_cleaned_normalized,columns=data_cleaned.select_dtypes(include=[np.number]).columns)\n",
    "# Target no normalizar\n",
    "print(scaler.mean_,scaler.scale_)\n",
    "y = data_cleaned['sueldos'] #variable target\n",
    "X = data_cleaned.drop(columns=['sueldos']) #variables input"
   ]
  },
  {
   "cell_type": "code",
   "execution_count": 26,
   "id": "40040b46-7f77-4166-b651-639373a57e84",
   "metadata": {},
   "outputs": [
    {
     "name": "stdout",
     "output_type": "stream",
     "text": [
      "<class 'pandas.core.frame.DataFrame'>\n",
      "RangeIndex: 21695 entries, 0 to 21694\n",
      "Data columns (total 6 columns):\n",
      " #   Column                Non-Null Count  Dtype  \n",
      "---  ------                --------------  -----  \n",
      " 0   tipo_establecimiento  21695 non-null  float64\n",
      " 1   provincia_desc        21695 non-null  float64\n",
      " 2   ciiu_desc             21695 non-null  float64\n",
      " 3   personal_ocupado      21695 non-null  float64\n",
      " 4   sueldos               21695 non-null  float64\n",
      " 5   ventas                21695 non-null  float64\n",
      "dtypes: float64(6)\n",
      "memory usage: 1017.1 KB\n"
     ]
    }
   ],
   "source": [
    "data_cleaned_normalized.info()"
   ]
  },
  {
   "cell_type": "code",
   "execution_count": 27,
   "id": "ff4ef95e-439c-4a2c-9fd4-b6a68bec4f19",
   "metadata": {},
   "outputs": [
    {
     "name": "stdout",
     "output_type": "stream",
     "text": [
      "tipo_establecimiento    0.437535\n",
      "provincia_desc          0.473965\n",
      "ciiu_desc              -0.763722\n",
      "personal_ocupado       -0.243709\n",
      "sueldos                -0.202921\n",
      "ventas                 -0.091552\n",
      "Name: 794, dtype: float64\n"
     ]
    }
   ],
   "source": [
    "data_cleaned_normalized.sample(5)\n",
    "print(data_cleaned_normalized.iloc[794,:])\n"
   ]
  },
  {
   "cell_type": "markdown",
   "id": "620b0e55-ee44-4d90-83f6-6ccd473888db",
   "metadata": {},
   "source": [
    "- Separamos data de training y testing:"
   ]
  },
  {
   "cell_type": "code",
   "execution_count": 51,
   "id": "140803c7-40ac-445b-944b-0f4cbd438095",
   "metadata": {},
   "outputs": [
    {
     "name": "stdout",
     "output_type": "stream",
     "text": [
      "Predicted price: [129862.11287546]\n"
     ]
    },
    {
     "name": "stderr",
     "output_type": "stream",
     "text": [
      "C:\\Users\\santi\\anaconda3\\lib\\site-packages\\sklearn\\base.py:420: UserWarning: X does not have valid feature names, but LinearRegression was fitted with feature names\n",
      "  warnings.warn(\n"
     ]
    }
   ],
   "source": [
    "# Asegúrate de que 'test_data' esté en el mismo formato que los datos de entrenamiento\n",
    "test_data = [2, 1, 4, 15, 710149]\n",
    "\n",
    "# Asegúrate de que 'test_data' sea una matriz NumPy bidimensional\n",
    "test_data_d = np.array(test_data).reshape(1, -1)\n",
    "\n",
    "# Realiza la predicción\n",
    "predicted_price = linear_regressor.predict(test_data_d)\n",
    "\n",
    "print(\"Predicted price:\", predicted_price)"
   ]
  },
  {
   "cell_type": "code",
   "execution_count": 30,
   "id": "9ed1fe28-1700-4b8c-92a2-7c279c38b7d7",
   "metadata": {},
   "outputs": [
    {
     "data": {
      "text/html": [
       "<div>\n",
       "<style scoped>\n",
       "    .dataframe tbody tr th:only-of-type {\n",
       "        vertical-align: middle;\n",
       "    }\n",
       "\n",
       "    .dataframe tbody tr th {\n",
       "        vertical-align: top;\n",
       "    }\n",
       "\n",
       "    .dataframe thead th {\n",
       "        text-align: right;\n",
       "    }\n",
       "</style>\n",
       "<table border=\"1\" class=\"dataframe\">\n",
       "  <thead>\n",
       "    <tr style=\"text-align: right;\">\n",
       "      <th></th>\n",
       "      <th>tipo_establecimiento</th>\n",
       "      <th>provincia_desc</th>\n",
       "      <th>ciiu_desc</th>\n",
       "      <th>personal_ocupado</th>\n",
       "      <th>ventas</th>\n",
       "    </tr>\n",
       "  </thead>\n",
       "  <tbody>\n",
       "    <tr>\n",
       "      <th>0</th>\n",
       "      <td>0</td>\n",
       "      <td>4</td>\n",
       "      <td>0</td>\n",
       "      <td>69</td>\n",
       "      <td>9913036</td>\n",
       "    </tr>\n",
       "    <tr>\n",
       "      <th>1</th>\n",
       "      <td>1</td>\n",
       "      <td>4</td>\n",
       "      <td>1</td>\n",
       "      <td>7</td>\n",
       "      <td>2117598</td>\n",
       "    </tr>\n",
       "    <tr>\n",
       "      <th>2</th>\n",
       "      <td>1</td>\n",
       "      <td>4</td>\n",
       "      <td>2</td>\n",
       "      <td>30</td>\n",
       "      <td>6664329</td>\n",
       "    </tr>\n",
       "    <tr>\n",
       "      <th>3</th>\n",
       "      <td>1</td>\n",
       "      <td>4</td>\n",
       "      <td>3</td>\n",
       "      <td>45</td>\n",
       "      <td>1724784</td>\n",
       "    </tr>\n",
       "    <tr>\n",
       "      <th>4</th>\n",
       "      <td>1</td>\n",
       "      <td>4</td>\n",
       "      <td>4</td>\n",
       "      <td>24</td>\n",
       "      <td>1300985</td>\n",
       "    </tr>\n",
       "  </tbody>\n",
       "</table>\n",
       "</div>"
      ],
      "text/plain": [
       "   tipo_establecimiento  provincia_desc  ciiu_desc  personal_ocupado   ventas\n",
       "0                     0               4          0                69  9913036\n",
       "1                     1               4          1                 7  2117598\n",
       "2                     1               4          2                30  6664329\n",
       "3                     1               4          3                45  1724784\n",
       "4                     1               4          4                24  1300985"
      ]
     },
     "execution_count": 30,
     "metadata": {},
     "output_type": "execute_result"
    }
   ],
   "source": [
    "X[0:5]"
   ]
  },
  {
   "cell_type": "code",
   "execution_count": 31,
   "id": "366e6d33-0de0-4700-a57d-cfbc4a6c20cd",
   "metadata": {},
   "outputs": [
    {
     "data": {
      "text/plain": [
       "0    600616\n",
       "1     66000\n",
       "2    298257\n",
       "3    319010\n",
       "4    193291\n",
       "Name: sueldos, dtype: int64"
      ]
     },
     "execution_count": 31,
     "metadata": {},
     "output_type": "execute_result"
    }
   ],
   "source": [
    "y[0:5]"
   ]
  },
  {
   "cell_type": "code",
   "execution_count": 32,
   "id": "f1a543e8-80c6-4dca-81c2-062797567246",
   "metadata": {},
   "outputs": [
    {
     "data": {
      "text/plain": [
       "(21695, 6)"
      ]
     },
     "execution_count": 32,
     "metadata": {},
     "output_type": "execute_result"
    }
   ],
   "source": [
    "data_cleaned_normalized.shape"
   ]
  },
  {
   "cell_type": "code",
   "execution_count": 33,
   "id": "dbc80337-96bc-45b4-b9eb-ce2a63c384ef",
   "metadata": {},
   "outputs": [],
   "source": [
    "from sklearn.model_selection import train_test_split\n",
    "X_train, X_test, y_train, y_test = train_test_split(X, y, test_size=0.3, random_state=20)"
   ]
  },
  {
   "cell_type": "code",
   "execution_count": 34,
   "id": "0d2533ae-1e13-4d5c-ad9d-921281b86bd5",
   "metadata": {},
   "outputs": [],
   "source": [
    "from sklearn import linear_model\n",
    "#Cree y entrene el modelo de regresor lineal\n",
    "# Create the linear regressor model\n",
    "linear_regressor = linear_model.LinearRegression()"
   ]
  },
  {
   "cell_type": "code",
   "execution_count": 35,
   "id": "6d3f89b0-c235-4083-b4cd-37a05edf81cf",
   "metadata": {},
   "outputs": [
    {
     "data": {
      "text/html": [
       "<style>#sk-container-id-1 {color: black;background-color: white;}#sk-container-id-1 pre{padding: 0;}#sk-container-id-1 div.sk-toggleable {background-color: white;}#sk-container-id-1 label.sk-toggleable__label {cursor: pointer;display: block;width: 100%;margin-bottom: 0;padding: 0.3em;box-sizing: border-box;text-align: center;}#sk-container-id-1 label.sk-toggleable__label-arrow:before {content: \"▸\";float: left;margin-right: 0.25em;color: #696969;}#sk-container-id-1 label.sk-toggleable__label-arrow:hover:before {color: black;}#sk-container-id-1 div.sk-estimator:hover label.sk-toggleable__label-arrow:before {color: black;}#sk-container-id-1 div.sk-toggleable__content {max-height: 0;max-width: 0;overflow: hidden;text-align: left;background-color: #f0f8ff;}#sk-container-id-1 div.sk-toggleable__content pre {margin: 0.2em;color: black;border-radius: 0.25em;background-color: #f0f8ff;}#sk-container-id-1 input.sk-toggleable__control:checked~div.sk-toggleable__content {max-height: 200px;max-width: 100%;overflow: auto;}#sk-container-id-1 input.sk-toggleable__control:checked~label.sk-toggleable__label-arrow:before {content: \"▾\";}#sk-container-id-1 div.sk-estimator input.sk-toggleable__control:checked~label.sk-toggleable__label {background-color: #d4ebff;}#sk-container-id-1 div.sk-label input.sk-toggleable__control:checked~label.sk-toggleable__label {background-color: #d4ebff;}#sk-container-id-1 input.sk-hidden--visually {border: 0;clip: rect(1px 1px 1px 1px);clip: rect(1px, 1px, 1px, 1px);height: 1px;margin: -1px;overflow: hidden;padding: 0;position: absolute;width: 1px;}#sk-container-id-1 div.sk-estimator {font-family: monospace;background-color: #f0f8ff;border: 1px dotted black;border-radius: 0.25em;box-sizing: border-box;margin-bottom: 0.5em;}#sk-container-id-1 div.sk-estimator:hover {background-color: #d4ebff;}#sk-container-id-1 div.sk-parallel-item::after {content: \"\";width: 100%;border-bottom: 1px solid gray;flex-grow: 1;}#sk-container-id-1 div.sk-label:hover label.sk-toggleable__label {background-color: #d4ebff;}#sk-container-id-1 div.sk-serial::before {content: \"\";position: absolute;border-left: 1px solid gray;box-sizing: border-box;top: 0;bottom: 0;left: 50%;z-index: 0;}#sk-container-id-1 div.sk-serial {display: flex;flex-direction: column;align-items: center;background-color: white;padding-right: 0.2em;padding-left: 0.2em;position: relative;}#sk-container-id-1 div.sk-item {position: relative;z-index: 1;}#sk-container-id-1 div.sk-parallel {display: flex;align-items: stretch;justify-content: center;background-color: white;position: relative;}#sk-container-id-1 div.sk-item::before, #sk-container-id-1 div.sk-parallel-item::before {content: \"\";position: absolute;border-left: 1px solid gray;box-sizing: border-box;top: 0;bottom: 0;left: 50%;z-index: -1;}#sk-container-id-1 div.sk-parallel-item {display: flex;flex-direction: column;z-index: 1;position: relative;background-color: white;}#sk-container-id-1 div.sk-parallel-item:first-child::after {align-self: flex-end;width: 50%;}#sk-container-id-1 div.sk-parallel-item:last-child::after {align-self: flex-start;width: 50%;}#sk-container-id-1 div.sk-parallel-item:only-child::after {width: 0;}#sk-container-id-1 div.sk-dashed-wrapped {border: 1px dashed gray;margin: 0 0.4em 0.5em 0.4em;box-sizing: border-box;padding-bottom: 0.4em;background-color: white;}#sk-container-id-1 div.sk-label label {font-family: monospace;font-weight: bold;display: inline-block;line-height: 1.2em;}#sk-container-id-1 div.sk-label-container {text-align: center;}#sk-container-id-1 div.sk-container {/* jupyter's `normalize.less` sets `[hidden] { display: none; }` but bootstrap.min.css set `[hidden] { display: none !important; }` so we also need the `!important` here to be able to override the default hidden behavior on the sphinx rendered scikit-learn.org. See: https://github.com/scikit-learn/scikit-learn/issues/21755 */display: inline-block !important;position: relative;}#sk-container-id-1 div.sk-text-repr-fallback {display: none;}</style><div id=\"sk-container-id-1\" class=\"sk-top-container\"><div class=\"sk-text-repr-fallback\"><pre>LinearRegression()</pre><b>In a Jupyter environment, please rerun this cell to show the HTML representation or trust the notebook. <br />On GitHub, the HTML representation is unable to render, please try loading this page with nbviewer.org.</b></div><div class=\"sk-container\" hidden><div class=\"sk-item\"><div class=\"sk-estimator sk-toggleable\"><input class=\"sk-toggleable__control sk-hidden--visually\" id=\"sk-estimator-id-1\" type=\"checkbox\" checked><label for=\"sk-estimator-id-1\" class=\"sk-toggleable__label sk-toggleable__label-arrow\">LinearRegression</label><div class=\"sk-toggleable__content\"><pre>LinearRegression()</pre></div></div></div></div></div>"
      ],
      "text/plain": [
       "LinearRegression()"
      ]
     },
     "execution_count": 35,
     "metadata": {},
     "output_type": "execute_result"
    }
   ],
   "source": [
    "# Train the model using the training sets\n",
    "linear_regressor.fit(X_train, y_train)"
   ]
  },
  {
   "cell_type": "code",
   "execution_count": 36,
   "id": "013f6532-4555-432d-a145-51d975d58933",
   "metadata": {},
   "outputs": [],
   "source": [
    "# Predict the output\n",
    "y_test_pred = linear_regressor.predict(X_test)"
   ]
  },
  {
   "cell_type": "code",
   "execution_count": 37,
   "id": "50fd482e-d031-4fff-8ed0-4097df37ec4c",
   "metadata": {},
   "outputs": [
    {
     "name": "stdout",
     "output_type": "stream",
     "text": [
      "Linear regressor performance:\n",
      "Mean absolute error = 152721.72\n",
      "Mean squared error = 422914277966.87\n",
      "Median absolute error = 30704.72\n",
      "Explain variance score = 0.76\n",
      "R2 score = 0.76\n"
     ]
    }
   ],
   "source": [
    "# Calcule los valores para las diferentes métricas, consulte su interpretación\n",
    "print(\"Linear regressor performance:\")\n",
    "print(\"Mean absolute error =\", round(sm.mean_absolute_error(y_test, y_test_pred), 2))\n",
    "print(\"Mean squared error =\", round(sm.mean_squared_error(y_test, y_test_pred), 2)) \n",
    "print(\"Median absolute error =\", round(sm.median_absolute_error(y_test, y_test_pred), 2)) \n",
    "print(\"Explain variance score =\", round(sm.explained_variance_score(y_test, y_test_pred), 2))\n",
    "print(\"R2 score =\", round(sm.r2_score(y_test, y_test_pred), 2))"
   ]
  },
  {
   "cell_type": "code",
   "execution_count": 39,
   "id": "198fb0c1-75d8-4df1-a096-b563e2976da5",
   "metadata": {},
   "outputs": [],
   "source": [
    "with open('trained_model.pkl','wb') as file:\n",
    "    pickle.dump(linear_regressor,file)"
   ]
  },
  {
   "cell_type": "code",
   "execution_count": 38,
   "id": "29aa4f96-6cf5-4e38-9e8d-cf9dc83a2af7",
   "metadata": {},
   "outputs": [],
   "source": [
    "# Train the model using the training sets\n",
    "polynomial = PolynomialFeatures(degree=2, include_bias=False)"
   ]
  },
  {
   "cell_type": "code",
   "execution_count": 39,
   "id": "7f2a5f05-f722-40ed-9f4e-2a7c2fc63e4a",
   "metadata": {},
   "outputs": [],
   "source": [
    "X_train_transformed = polynomial.fit_transform(X_train) #con la data de entrenamiento se configura el polinomio\n",
    "datapoint = [[1, 3, 1, 67, 19036]]\n",
    "poly_datapoint = polynomial.fit_transform(datapoint)"
   ]
  },
  {
   "cell_type": "code",
   "execution_count": 40,
   "id": "50bb81d8-37fe-4b97-b19e-fc865235a042",
   "metadata": {},
   "outputs": [
    {
     "data": {
      "text/plain": [
       "2"
      ]
     },
     "execution_count": 40,
     "metadata": {},
     "output_type": "execute_result"
    }
   ],
   "source": [
    "polynomial.degree"
   ]
  },
  {
   "cell_type": "code",
   "execution_count": 41,
   "id": "def92cfe-4c6b-47bc-b57f-df7faaedf5ed",
   "metadata": {},
   "outputs": [
    {
     "data": {
      "text/plain": [
       "array(['x0', 'x1', 'x2', 'x3', 'x4', 'x0^2', 'x0 x1', 'x0 x2', 'x0 x3',\n",
       "       'x0 x4', 'x1^2', 'x1 x2', 'x1 x3', 'x1 x4', 'x2^2', 'x2 x3',\n",
       "       'x2 x4', 'x3^2', 'x3 x4', 'x4^2'], dtype=object)"
      ]
     },
     "execution_count": 41,
     "metadata": {},
     "output_type": "execute_result"
    }
   ],
   "source": [
    "polynomial.get_feature_names_out()"
   ]
  },
  {
   "cell_type": "code",
   "execution_count": 42,
   "id": "362f9550-ff6f-4e1b-aaee-2ca681064702",
   "metadata": {},
   "outputs": [
    {
     "data": {
      "text/plain": [
       "array([[1.00000000e+00, 3.00000000e+00, 1.00000000e+00, 6.70000000e+01,\n",
       "        1.90360000e+04, 1.00000000e+00, 3.00000000e+00, 1.00000000e+00,\n",
       "        6.70000000e+01, 1.90360000e+04, 9.00000000e+00, 3.00000000e+00,\n",
       "        2.01000000e+02, 5.71080000e+04, 1.00000000e+00, 6.70000000e+01,\n",
       "        1.90360000e+04, 4.48900000e+03, 1.27541200e+06, 3.62369296e+08]])"
      ]
     },
     "execution_count": 42,
     "metadata": {},
     "output_type": "execute_result"
    }
   ],
   "source": [
    "poly_datapoint"
   ]
  },
  {
   "cell_type": "code",
   "execution_count": 43,
   "id": "a182a70f-4dc5-461e-aa6e-f2c229b21932",
   "metadata": {},
   "outputs": [
    {
     "name": "stdout",
     "output_type": "stream",
     "text": [
      "\n",
      "Linear regression:\n",
      " [748554.61381973]\n",
      "\n",
      "Polynomial regression:\n",
      " [401777.94284864]\n"
     ]
    },
    {
     "name": "stderr",
     "output_type": "stream",
     "text": [
      "C:\\Users\\santi\\anaconda3\\lib\\site-packages\\sklearn\\base.py:420: UserWarning: X does not have valid feature names, but LinearRegression was fitted with feature names\n",
      "  warnings.warn(\n"
     ]
    }
   ],
   "source": [
    "#Realice la predicción usando regresores lineales y polinómicos para ver la\n",
    "#diferencia:\n",
    "\n",
    "poly_linear_model = linear_model.LinearRegression()\n",
    "poly_linear_model.fit(X_train_transformed, y_train) #ajuste polinomial\n",
    "\n",
    "print(\"\\nLinear regression:\\n\", linear_regressor.predict(datapoint))\n",
    "print(\"\\nPolynomial regression:\\n\", poly_linear_model.predict(poly_datapoint))"
   ]
  },
  {
   "cell_type": "markdown",
   "id": "7157e2a8-562c-4ff3-b82b-7545d107b5c9",
   "metadata": {},
   "source": [
    "## polinomio grado 3"
   ]
  },
  {
   "cell_type": "code",
   "execution_count": 44,
   "id": "1c82689b-1843-4a7d-9ed0-67ca0e1278eb",
   "metadata": {},
   "outputs": [],
   "source": [
    "poly = PolynomialFeatures(degree=2, include_bias=False)"
   ]
  },
  {
   "cell_type": "code",
   "execution_count": 45,
   "id": "cdc88bfc-ba09-4262-80c0-8aa37ce6f08b",
   "metadata": {},
   "outputs": [],
   "source": [
    "poly_features = poly.fit_transform(X)"
   ]
  },
  {
   "cell_type": "code",
   "execution_count": 46,
   "id": "a0d50af3-084f-4b9f-9ba0-d5c3bcfb2e59",
   "metadata": {},
   "outputs": [
    {
     "data": {
      "text/plain": [
       "array([[0.00000000e+00, 4.00000000e+00, 0.00000000e+00, ...,\n",
       "        4.76100000e+03, 6.83999484e+08, 9.82682827e+13],\n",
       "       [1.00000000e+00, 4.00000000e+00, 1.00000000e+00, ...,\n",
       "        4.90000000e+01, 1.48231860e+07, 4.48422129e+12],\n",
       "       [1.00000000e+00, 4.00000000e+00, 2.00000000e+00, ...,\n",
       "        9.00000000e+02, 1.99929870e+08, 4.44132810e+13],\n",
       "       ...,\n",
       "       [1.00000000e+00, 0.00000000e+00, 2.20000000e+01, ...,\n",
       "        4.41000000e+02, 2.00114775e+08, 9.08070820e+13],\n",
       "       [0.00000000e+00, 0.00000000e+00, 1.33000000e+02, ...,\n",
       "        0.00000000e+00, 0.00000000e+00, 0.00000000e+00],\n",
       "       [2.00000000e+00, 0.00000000e+00, 1.33000000e+02, ...,\n",
       "        5.76000000e+02, 8.27656872e+08, 1.18926371e+15]])"
      ]
     },
     "execution_count": 46,
     "metadata": {},
     "output_type": "execute_result"
    }
   ],
   "source": [
    "poly_features"
   ]
  },
  {
   "cell_type": "code",
   "execution_count": 47,
   "id": "3eb5f276-db58-4330-94ae-2853a6a79a2a",
   "metadata": {},
   "outputs": [],
   "source": [
    "X_train, X_test, y_train, y_test = train_test_split(poly_features, y, test_size=0.3, random_state=20)\n",
    "\n",
    "poly_reg_model = linear_model.LinearRegression()\n",
    "poly_reg_model.fit(X_train, y_train)\n",
    "y_predicted = poly_reg_model.predict(X_test)"
   ]
  },
  {
   "cell_type": "code",
   "execution_count": 48,
   "id": "68289550-d93b-4214-9bf4-29eecea92ca7",
   "metadata": {},
   "outputs": [],
   "source": [
    "from sklearn.metrics import mean_squared_error"
   ]
  },
  {
   "cell_type": "code",
   "execution_count": 49,
   "id": "3b8f1d31-2215-46d1-99ed-973663c6033e",
   "metadata": {},
   "outputs": [
    {
     "data": {
      "text/plain": [
       "1004648.9706940487"
      ]
     },
     "execution_count": 49,
     "metadata": {},
     "output_type": "execute_result"
    }
   ],
   "source": [
    "poly_reg_rmse = np.sqrt(mean_squared_error(y_test, y_predicted))\n",
    "poly_reg_rmse"
   ]
  },
  {
   "cell_type": "code",
   "execution_count": 50,
   "id": "a2e24530-307e-4616-8ec0-cca560e19fcf",
   "metadata": {},
   "outputs": [
    {
     "name": "stdout",
     "output_type": "stream",
     "text": [
      "Polinomial Regressor performance:\n",
      "Mean absolute error = 201878.0\n",
      "Mean squared error = 1009319554316.61\n",
      "Median absolute error = 56290.35\n",
      "Explained variance score = 0.42\n",
      "R2 score = 0.42\n"
     ]
    }
   ],
   "source": [
    "# Measure performance\n",
    "print(\"Polinomial Regressor performance:\")\n",
    "print(\"Mean absolute error =\", round(sm.mean_absolute_error(y_test, y_predicted), 2))\n",
    "print(\"Mean squared error =\", round(sm.mean_squared_error(y_test, y_predicted), 2))\n",
    "print(\"Median absolute error =\", round(sm.median_absolute_error(y_test, y_predicted), 2))\n",
    "print(\"Explained variance score =\", round(sm.explained_variance_score(y_test, y_predicted), 2))\n",
    "print(\"R2 score =\", round(sm.r2_score(y_test, y_predicted), 2))"
   ]
  },
  {
   "cell_type": "markdown",
   "id": "aa400003-699f-4f7c-893b-a0769dc6c28e",
   "metadata": {},
   "source": [
    "### polinomio grado 2"
   ]
  },
  {
   "cell_type": "code",
   "execution_count": 87,
   "id": "011394c3-a1c0-41b8-aedd-7c53b772f442",
   "metadata": {},
   "outputs": [],
   "source": [
    "from sklearn.metrics import mean_squared_error"
   ]
  },
  {
   "cell_type": "code",
   "execution_count": 88,
   "id": "cf454c1b-cfe3-4ed5-940f-d1b26e7c1bc5",
   "metadata": {},
   "outputs": [],
   "source": [
    "poly = PolynomialFeatures(degree=2, include_bias=False)"
   ]
  },
  {
   "cell_type": "code",
   "execution_count": 89,
   "id": "973eaa96-bda8-42b6-a48d-4a149317a67c",
   "metadata": {},
   "outputs": [],
   "source": [
    "poly_features = poly.fit_transform(X)"
   ]
  },
  {
   "cell_type": "code",
   "execution_count": 90,
   "id": "0a539893-f933-413e-ad6e-edd7f47ec1a6",
   "metadata": {},
   "outputs": [],
   "source": [
    "X_train, X_test, y_train, y_test = train_test_split(poly_features, y, test_size=0.3, random_state=20)"
   ]
  },
  {
   "cell_type": "code",
   "execution_count": 91,
   "id": "cae9fdc3-9c5e-4340-9133-24adfc2affae",
   "metadata": {},
   "outputs": [],
   "source": [
    "poly_reg_model = linear_model.LinearRegression()\n",
    "poly_reg_model.fit(X_train, y_train)\n",
    "y_predicted = poly_reg_model.predict(X_test)"
   ]
  },
  {
   "cell_type": "code",
   "execution_count": 92,
   "id": "dcd2f14d-2f38-454b-bd85-5f78d536d98b",
   "metadata": {},
   "outputs": [
    {
     "data": {
      "text/plain": [
       "52425.926604752785"
      ]
     },
     "execution_count": 92,
     "metadata": {},
     "output_type": "execute_result"
    }
   ],
   "source": [
    "poly_reg_rmse = np.sqrt(mean_squared_error(y_test, y_predicted))\n",
    "poly_reg_rmse"
   ]
  },
  {
   "cell_type": "code",
   "execution_count": 93,
   "id": "b1a924a7-7e62-4b99-9516-ba41b0ed41c4",
   "metadata": {},
   "outputs": [
    {
     "name": "stdout",
     "output_type": "stream",
     "text": [
      "Linear Regressor performance:\n",
      "Mean absolute error = 27158.88\n",
      "Mean squared error = 2748477780.37\n",
      "Median absolute error = 12416.34\n",
      "Explained variance score = 0.57\n",
      "R2 score = 0.57\n"
     ]
    }
   ],
   "source": [
    "# Measure performance\n",
    "print(\"Linear Regressor performance:\")\n",
    "print(\"Mean absolute error =\", round(sm.mean_absolute_error(y_test, y_predicted), 2))\n",
    "print(\"Mean squared error =\", round(sm.mean_squared_error(y_test, y_predicted), 2))\n",
    "print(\"Median absolute error =\", round(sm.median_absolute_error(y_test, y_predicted), 2))\n",
    "print(\"Explained variance score =\", round(sm.explained_variance_score(y_test, y_predicted), 2))\n",
    "print(\"R2 score =\", round(sm.r2_score(y_test, y_predicted), 2))"
   ]
  },
  {
   "cell_type": "markdown",
   "id": "9146aa67-9783-4a49-af80-5f4ccc381faf",
   "metadata": {},
   "source": [
    "### **SVM regressor**"
   ]
  },
  {
   "cell_type": "code",
   "execution_count": 37,
   "id": "dec5a8f7-4485-43c3-aae2-332ff3e8e583",
   "metadata": {},
   "outputs": [],
   "source": [
    "from sklearn import datasets\n",
    "from sklearn.svm import SVR\n",
    "from sklearn.metrics import mean_squared_error, r2_score\n",
    "from sklearn.utils import shuffle"
   ]
  },
  {
   "cell_type": "code",
   "execution_count": 38,
   "id": "5f284d3b-c0df-4414-a27e-0a291f022586",
   "metadata": {},
   "outputs": [],
   "source": [
    "train_X, valid_X, train_y, valid_y = train_test_split(X, y, test_size=0.3, random_state=30)"
   ]
  },
  {
   "cell_type": "code",
   "execution_count": 39,
   "id": "275e4a99-3de5-4814-b23a-836531a6b412",
   "metadata": {},
   "outputs": [],
   "source": [
    "# Create Support Vector Regression model\n",
    "sv_regressor = SVR(kernel='linear', C=1, epsilon=0.1)"
   ]
  },
  {
   "cell_type": "code",
   "execution_count": null,
   "id": "9004d7d8-71ad-45fb-aa28-b652e8d2d8eb",
   "metadata": {},
   "outputs": [],
   "source": [
    "# Train Support Vector Regressor\n",
    "sv_regressor.fit(train_X, train_y)"
   ]
  },
  {
   "cell_type": "code",
   "execution_count": null,
   "id": "0e9ef0b8-6cc0-4821-b906-204fb4184c51",
   "metadata": {},
   "outputs": [],
   "source": [
    "# Evaluate performance of Support Vector Regressor\n",
    "y_test_pred = sv_regressor.predict(valid_X)\n",
    "mse = mean_squared_error(valid_y, y_test_pred)\n",
    "r2 = r2_score(valid_y, y_test_pred)\n",
    "print(\"\\n#### Performance ####\")\n",
    "print(\"Mean squared error =\", round(mse, 2))\n",
    "print(\"R2 score =\", round(r2, 2))"
   ]
  },
  {
   "cell_type": "code",
   "execution_count": null,
   "id": "1ae0f5d6-595c-42c4-8dc0-31f0c0bb75c2",
   "metadata": {},
   "outputs": [],
   "source": []
  },
  {
   "cell_type": "code",
   "execution_count": null,
   "id": "ff2cb07f-e410-4afd-9cc8-65f3eba3a8bf",
   "metadata": {},
   "outputs": [],
   "source": []
  }
 ],
 "metadata": {
  "kernelspec": {
   "display_name": "Python 3 (ipykernel)",
   "language": "python",
   "name": "python3"
  },
  "language_info": {
   "codemirror_mode": {
    "name": "ipython",
    "version": 3
   },
   "file_extension": ".py",
   "mimetype": "text/x-python",
   "name": "python",
   "nbconvert_exporter": "python",
   "pygments_lexer": "ipython3",
   "version": "3.10.9"
  }
 },
 "nbformat": 4,
 "nbformat_minor": 5
}
