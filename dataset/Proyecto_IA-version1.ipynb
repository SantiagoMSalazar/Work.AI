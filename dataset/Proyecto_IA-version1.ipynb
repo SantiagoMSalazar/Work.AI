{
 "cells": [
  {
   "cell_type": "raw",
   "id": "76b480d3-133d-4a5f-80fa-da94cc3c585e",
   "metadata": {},
   "source": [
    "---\n",
    "title: \"Proyecto IA\"\n",
    "author: \"Campaña Ricardo, Chalacama Erik, Delgado Joel, Román Paúl, Salazar Santiago, Yánez David\"\n",
    "lang: es\n",
    "format:\n",
    "    pdf:\n",
    "        toc: true\n",
    "        toc-title: \"Tabla de contenidos\"\n",
    "execute:\n",
    "    echo: true\n",
    "    error: false\n",
    "    warning: false\n",
    "#code-fold: true\n",
    "jupyter: python3\n",
    "---"
   ]
  },
  {
   "cell_type": "code",
   "execution_count": 8,
   "id": "004f16a3-4d9f-4da8-bbac-b5c3498b8f33",
   "metadata": {},
   "outputs": [],
   "source": [
    "import pickle\n",
    "import joblib\n",
    "import numpy as np\n",
    "import pandas as pd\n",
    "import sklearn\n",
    "import sklearn.metrics as sm\n",
    "import matplotlib.pyplot as plt\n",
    "from sklearn.cluster import KMeans\n",
    "from sklearn import metrics\n",
    "from sklearn import preprocessing\n",
    "from sklearn.metrics import pairwise\n",
    "from scipy.cluster.hierarchy import dendrogram, linkage, fcluster\n",
    "import seaborn as sns\n",
    "from pandas.plotting import parallel_coordinates\n",
    "from sklearn.preprocessing import PolynomialFeatures\n",
    "from sklearn.preprocessing import StandardScaler\n",
    "from sklearn.model_selection import train_test_split\n",
    "from sklearn import linear_model\n",
    "from sklearn.metrics import mean_squared_error\n",
    "from sklearn.preprocessing import PolynomialFeatures\n",
    "from sklearn.linear_model import LinearRegression\n",
    "from sklearn.pipeline import make_pipeline\n",
    "from sklearn import datasets\n",
    "from sklearn.svm import SVR\n",
    "from sklearn.metrics import mean_squared_error, r2_score\n",
    "from sklearn.utils import shuffle"
   ]
  },
  {
   "cell_type": "code",
   "execution_count": 9,
   "id": "e2369c19-38bc-4543-b73a-f7fd7dbe69ae",
   "metadata": {},
   "outputs": [
    {
     "name": "stdout",
     "output_type": "stream",
     "text": [
      "1.3.0\n"
     ]
    },
    {
     "data": {
      "text/html": [
       "<div>\n",
       "<style scoped>\n",
       "    .dataframe tbody tr th:only-of-type {\n",
       "        vertical-align: middle;\n",
       "    }\n",
       "\n",
       "    .dataframe tbody tr th {\n",
       "        vertical-align: top;\n",
       "    }\n",
       "\n",
       "    .dataframe thead th {\n",
       "        text-align: right;\n",
       "    }\n",
       "</style>\n",
       "<table border=\"1\" class=\"dataframe\">\n",
       "  <thead>\n",
       "    <tr style=\"text-align: right;\">\n",
       "      <th></th>\n",
       "      <th>id_empresa</th>\n",
       "      <th>tipo_establecimiento_cod</th>\n",
       "      <th>tipo_establecimiento</th>\n",
       "      <th>provincia_cod</th>\n",
       "      <th>provincia_desc</th>\n",
       "      <th>ciiu_cod</th>\n",
       "      <th>ciiu_desc</th>\n",
       "      <th>personal_ocupado</th>\n",
       "      <th>sueldos</th>\n",
       "      <th>ventas</th>\n",
       "    </tr>\n",
       "  </thead>\n",
       "  <tbody>\n",
       "    <tr>\n",
       "      <th>4905</th>\n",
       "      <td>13706570092</td>\n",
       "      <td>Sucursal</td>\n",
       "      <td>Sucursal</td>\n",
       "      <td>GUAYAS</td>\n",
       "      <td>GUAYAS</td>\n",
       "      <td>ACTIVIDADES DE MENSAJERÍA.</td>\n",
       "      <td>Actividades de mensajería.</td>\n",
       "      <td>0</td>\n",
       "      <td>0</td>\n",
       "      <td>0</td>\n",
       "    </tr>\n",
       "    <tr>\n",
       "      <th>23170</th>\n",
       "      <td>47155632077</td>\n",
       "      <td>Único</td>\n",
       "      <td>Único</td>\n",
       "      <td>EL ORO</td>\n",
       "      <td>EL ORO</td>\n",
       "      <td>VENTA AL POR MAYOR DE ALIMENTOS, BEBIDAS Y TAB...</td>\n",
       "      <td>Venta al por mayor de alimentos, bebidas y tab...</td>\n",
       "      <td>15</td>\n",
       "      <td>94075</td>\n",
       "      <td>1922388</td>\n",
       "    </tr>\n",
       "    <tr>\n",
       "      <th>22162</th>\n",
       "      <td>46618181090</td>\n",
       "      <td>Sucursal</td>\n",
       "      <td>Sucursal</td>\n",
       "      <td>EL ORO</td>\n",
       "      <td>EL ORO</td>\n",
       "      <td>GENERACIÓN, TRANSMISIÓN Y DISTRIBUCIÓN DE ENER...</td>\n",
       "      <td>Generación, transmisión y distribución de ener...</td>\n",
       "      <td>0</td>\n",
       "      <td>0</td>\n",
       "      <td>0</td>\n",
       "    </tr>\n",
       "    <tr>\n",
       "      <th>927</th>\n",
       "      <td>13602288018</td>\n",
       "      <td>Sucursal</td>\n",
       "      <td>Sucursal</td>\n",
       "      <td>AZUAY</td>\n",
       "      <td>AZUAY</td>\n",
       "      <td>VENTA AL POR MAYOR DE MATERIALES PARA LA CONST...</td>\n",
       "      <td>Venta al por mayor de materiales para la const...</td>\n",
       "      <td>12</td>\n",
       "      <td>106349</td>\n",
       "      <td>1475857</td>\n",
       "    </tr>\n",
       "    <tr>\n",
       "      <th>13111</th>\n",
       "      <td>13827940172</td>\n",
       "      <td>Sucursal</td>\n",
       "      <td>Sucursal</td>\n",
       "      <td>PICHINCHA</td>\n",
       "      <td>PICHINCHA</td>\n",
       "      <td>LAVADO Y LIMPIEZA, INCLUIDA LA LIMPIEZA EN SEC...</td>\n",
       "      <td>Lavado y limpieza, incluida la limpieza en sec...</td>\n",
       "      <td>2</td>\n",
       "      <td>9640</td>\n",
       "      <td>78965</td>\n",
       "    </tr>\n",
       "  </tbody>\n",
       "</table>\n",
       "</div>"
      ],
      "text/plain": [
       "        id_empresa tipo_establecimiento_cod tipo_establecimiento  \\\n",
       "4905   13706570092                 Sucursal             Sucursal   \n",
       "23170  47155632077                    Único                Único   \n",
       "22162  46618181090                 Sucursal             Sucursal   \n",
       "927    13602288018                 Sucursal             Sucursal   \n",
       "13111  13827940172                 Sucursal             Sucursal   \n",
       "\n",
       "      provincia_cod provincia_desc  \\\n",
       "4905         GUAYAS         GUAYAS   \n",
       "23170        EL ORO         EL ORO   \n",
       "22162        EL ORO         EL ORO   \n",
       "927           AZUAY          AZUAY   \n",
       "13111     PICHINCHA      PICHINCHA   \n",
       "\n",
       "                                                ciiu_cod  \\\n",
       "4905                          ACTIVIDADES DE MENSAJERÍA.   \n",
       "23170  VENTA AL POR MAYOR DE ALIMENTOS, BEBIDAS Y TAB...   \n",
       "22162  GENERACIÓN, TRANSMISIÓN Y DISTRIBUCIÓN DE ENER...   \n",
       "927    VENTA AL POR MAYOR DE MATERIALES PARA LA CONST...   \n",
       "13111  LAVADO Y LIMPIEZA, INCLUIDA LA LIMPIEZA EN SEC...   \n",
       "\n",
       "                                               ciiu_desc  personal_ocupado  \\\n",
       "4905                          Actividades de mensajería.                 0   \n",
       "23170  Venta al por mayor de alimentos, bebidas y tab...                15   \n",
       "22162  Generación, transmisión y distribución de ener...                 0   \n",
       "927    Venta al por mayor de materiales para la const...                12   \n",
       "13111  Lavado y limpieza, incluida la limpieza en sec...                 2   \n",
       "\n",
       "       sueldos   ventas  \n",
       "4905         0        0  \n",
       "23170    94075  1922388  \n",
       "22162        0        0  \n",
       "927     106349  1475857  \n",
       "13111     9640    78965  "
      ]
     },
     "execution_count": 9,
     "metadata": {},
     "output_type": "execute_result"
    }
   ],
   "source": [
    "print(sklearn.__version__)\n",
    "data = pd.read_csv(\"inec_encuesta-estructural-emprresarial_establecimientos_2019.csv\", delimiter=';')\n",
    "data.sample(5)"
   ]
  },
  {
   "cell_type": "code",
   "execution_count": 10,
   "id": "9d0eabe4-97f7-44bf-8341-75d3d243f6b2",
   "metadata": {},
   "outputs": [
    {
     "name": "stdout",
     "output_type": "stream",
     "text": [
      "<class 'pandas.core.frame.DataFrame'>\n",
      "RangeIndex: 23524 entries, 0 to 23523\n",
      "Data columns (total 10 columns):\n",
      " #   Column                    Non-Null Count  Dtype \n",
      "---  ------                    --------------  ----- \n",
      " 0   id_empresa                23524 non-null  int64 \n",
      " 1   tipo_establecimiento_cod  23524 non-null  object\n",
      " 2   tipo_establecimiento      23524 non-null  object\n",
      " 3   provincia_cod             23524 non-null  object\n",
      " 4   provincia_desc            23524 non-null  object\n",
      " 5   ciiu_cod                  23524 non-null  object\n",
      " 6   ciiu_desc                 23524 non-null  object\n",
      " 7   personal_ocupado          23524 non-null  int64 \n",
      " 8   sueldos                   23524 non-null  int64 \n",
      " 9   ventas                    23524 non-null  int64 \n",
      "dtypes: int64(4), object(6)\n",
      "memory usage: 1.8+ MB\n"
     ]
    }
   ],
   "source": [
    "data.info()"
   ]
  },
  {
   "cell_type": "code",
   "execution_count": 11,
   "id": "f14c698b-aec3-43ad-a45b-03fa93fb3d32",
   "metadata": {},
   "outputs": [],
   "source": [
    "data.drop(columns=['id_empresa'], inplace=True) "
   ]
  },
  {
   "cell_type": "code",
   "execution_count": 12,
   "id": "110676a6-029b-4951-bfe5-a2f167cd7d32",
   "metadata": {},
   "outputs": [
    {
     "data": {
      "text/plain": [
       "Index(['tipo_establecimiento_cod', 'tipo_establecimiento', 'provincia_cod',\n",
       "       'provincia_desc', 'ciiu_cod', 'ciiu_desc', 'personal_ocupado',\n",
       "       'sueldos', 'ventas'],\n",
       "      dtype='object')"
      ]
     },
     "execution_count": 12,
     "metadata": {},
     "output_type": "execute_result"
    }
   ],
   "source": [
    "data.columns"
   ]
  },
  {
   "cell_type": "code",
   "execution_count": 13,
   "id": "79efe476-20aa-407d-8140-d4ba7006d0b5",
   "metadata": {},
   "outputs": [
    {
     "name": "stdout",
     "output_type": "stream",
     "text": [
      "Número de filas antes de eliminación: 23524\n",
      "Número de filas después de limpieza: 21695\n"
     ]
    }
   ],
   "source": [
    "# Elimina las filas en las que al menos una columna contenga un espacio en blanco o cadena vacía\n",
    "data_cleaned = data[~(data == ' ').any(axis=1) & ~(data == '').any(axis=1)].copy()\n",
    "\n",
    "# Imprime el número de filas antes y después de la eliminación\n",
    "print(\"Número de filas antes de eliminación:\", len(data))\n",
    "print(\"Número de filas después de limpieza:\", len(data_cleaned))"
   ]
  },
  {
   "cell_type": "code",
   "execution_count": 14,
   "id": "1eb80b19-ce7b-4b50-902f-33ed2c0ea423",
   "metadata": {},
   "outputs": [],
   "source": [
    "# Aplica strip() a todas las celdas del DataFrame para eliminar espacios en blanco\n",
    "data = data.applymap(lambda x: x.strip() if isinstance(x, str) else x)"
   ]
  },
  {
   "cell_type": "code",
   "execution_count": 15,
   "id": "2e7cb726-bf95-49e8-9d54-cbf2db4bc74d",
   "metadata": {},
   "outputs": [
    {
     "data": {
      "text/plain": [
       "VENTA AL POR MENOR DE PRODUCTOS FARMACÉUTICOS Y MEDICINALES, COSMÉTICOS Y ARTÍCULOS DE TOCADOR EN COMERCIOS ESPECIALI    2582\n",
       "VENTA AL POR MAYOR DE OTROS ENSERES DOMÉSTICOS.                                                                          1151\n",
       "ACTIVIDADES DE RESTAURANTES Y DE SERVICIO MÓVIL DE COMIDAS.                                                              1125\n",
       "VENTA AL POR MENOR DE APARATOS ELÉCTRICOS DE USO DOMÉSTICO, MUEBLES, EQUIPO DE ILUMINACIÓN Y OTROS ENSERES DOMÉSTICO      896\n",
       "VENTA AL POR MENOR EN COMERCIOS NO ESPECIALIZADOS CON PREDOMINIO DE LA VENTA DE ALIMENTOS, BEBIDAS O TABACO.              771\n",
       "                                                                                                                         ... \n",
       "OTRAS ACTIVIDADES DE TECNOLOGÍA DE LA INFORMACIÓN Y DE SERVICIOS INFORMÁTICOS.                                              1\n",
       "FABRICACIÓN DE GAS; DISTRIBUCIÓN DE COMBUSTIBLES GASEOSOS POR TUBERÍAS.                                                     1\n",
       "FABRICACIÓN DE EQUIPO ELÉCTRICO DE ILUMINACIÓN.                                                                             1\n",
       "TRANSMISIONES DE RADIO.                                                                                                     1\n",
       "FABRICACIÓN DE PARTES Y PIEZAS DE CARPINTERÍA PARA EDIFICIOS Y CONSTRUCCIONES.                                              1\n",
       "Name: ciiu_cod, Length: 264, dtype: int64"
      ]
     },
     "execution_count": 15,
     "metadata": {},
     "output_type": "execute_result"
    }
   ],
   "source": [
    "data_cleaned['ciiu_cod'].value_counts()"
   ]
  },
  {
   "cell_type": "code",
   "execution_count": 16,
   "id": "6cf2d4b1-7e84-41b6-a106-31308006b793",
   "metadata": {},
   "outputs": [
    {
     "data": {
      "text/plain": [
       "Venta al por menor de productos farmacéuticos y medicinales, cosméticos y artículos de tocador en comercios especializados.                           2582\n",
       "Venta al por mayor de otros enseres domésticos.                                                                                                       1151\n",
       "Actividades de restaurantes y de servicio móvil de comidas.                                                                                           1125\n",
       "Venta al por menor de aparatos eléctricos de uso doméstico, muebles, equipo de iluminación y otros enseres domésticos en comercios especializados.     896\n",
       "Venta al por menor en comercios no especializados con predominio de la venta de alimentos, bebidas o tabaco.                                           771\n",
       "                                                                                                                                                      ... \n",
       "Otras actividades de tecnología de la información y de servicios informáticos.                                                                           1\n",
       "Fabricación de gas; distribución de combustibles gaseosos por tuberías.                                                                                  1\n",
       "Fabricación de equipo eléctrico de iluminación.                                                                                                          1\n",
       "Transmisiones de radio.                                                                                                                                  1\n",
       "Fabricación de partes y piezas de carpintería para edificios y construcciones.                                                                           1\n",
       "Name: ciiu_desc, Length: 264, dtype: int64"
      ]
     },
     "execution_count": 16,
     "metadata": {},
     "output_type": "execute_result"
    }
   ],
   "source": [
    "data_cleaned['ciiu_desc'].value_counts()"
   ]
  },
  {
   "cell_type": "code",
   "execution_count": 17,
   "id": "e649714b-7fc7-4be8-86d6-c311c7e3046d",
   "metadata": {},
   "outputs": [
    {
     "data": {
      "text/plain": [
       "GUAYAS                           6578\n",
       "PICHINCHA                        6158\n",
       "MANABÍ                           1553\n",
       "AZUAY                            1281\n",
       "EL ORO                            820\n",
       "LOS RÍOS                          766\n",
       "TUNGURAHUA                        686\n",
       "STO. DOMINGO DE LOS TSÁCHILAS     644\n",
       "IMBABURA                          453\n",
       "LOJA                              388\n",
       "ESMERALDAS                        346\n",
       "CHIMBORAZO                        296\n",
       "SANTA ELENA                       276\n",
       "COTOPAXI                          262\n",
       "ORELLANA                          214\n",
       "SUCUMBÍOS                         214\n",
       "CAÑAR                             175\n",
       "CARCHI                            126\n",
       "BOLÍVAR                            90\n",
       "ZAMORA CHINCHIPE                   77\n",
       "MORONA SANTIAGO                    76\n",
       "GALÁPAGOS                          73\n",
       "PASTAZA                            72\n",
       "NAPO                               71\n",
       "Name: provincia_desc, dtype: int64"
      ]
     },
     "execution_count": 17,
     "metadata": {},
     "output_type": "execute_result"
    }
   ],
   "source": [
    "data_cleaned['provincia_desc'].value_counts()"
   ]
  },
  {
   "cell_type": "code",
   "execution_count": 18,
   "id": "643b9a35-52e9-40f4-898c-68a3e4a1723a",
   "metadata": {},
   "outputs": [
    {
     "data": {
      "text/plain": [
       "GUAYAS                           6578\n",
       "PICHINCHA                        6158\n",
       "MANABI                           1553\n",
       "AZUAY                            1281\n",
       "EL ORO                            820\n",
       "LOS RIOS                          766\n",
       "TUNGURAHUA                        686\n",
       "STO. DOMINGO DE LOS TSACHILAS     644\n",
       "IMBABURA                          453\n",
       "LOJA                              388\n",
       "ESMERALDAS                        346\n",
       "CHIMBORAZO                        296\n",
       "SANTA ELENA                       276\n",
       "COTOPAXI                          262\n",
       "ORELLANA                          214\n",
       "SUCUMBIOS                         214\n",
       "CAÑAR                             175\n",
       "CARCHI                            126\n",
       "BOLIVAR                            90\n",
       "ZAMORA CHINCHIPE                   77\n",
       "MORONA SANTIAGO                    76\n",
       "GALAPAGOS                          73\n",
       "PASTAZA                            72\n",
       "NAPO                               71\n",
       "Name: provincia_cod, dtype: int64"
      ]
     },
     "execution_count": 18,
     "metadata": {},
     "output_type": "execute_result"
    }
   ],
   "source": [
    "data_cleaned['provincia_cod'].value_counts()"
   ]
  },
  {
   "cell_type": "code",
   "execution_count": 19,
   "id": "e8b81f6b-2611-4302-8305-7d161e5a8ef8",
   "metadata": {},
   "outputs": [
    {
     "data": {
      "text/plain": [
       "Sucursal    17916\n",
       "Matriz       2447\n",
       "Único        1332\n",
       "Name: tipo_establecimiento_cod, dtype: int64"
      ]
     },
     "execution_count": 19,
     "metadata": {},
     "output_type": "execute_result"
    }
   ],
   "source": [
    "data_cleaned['tipo_establecimiento_cod'].value_counts()"
   ]
  },
  {
   "cell_type": "code",
   "execution_count": 20,
   "id": "fa94c15b-cf1b-40c8-92b0-2507f7c41d91",
   "metadata": {},
   "outputs": [
    {
     "data": {
      "text/plain": [
       "Sucursal    17916\n",
       "Matriz       2447\n",
       "Único        1332\n",
       "Name: tipo_establecimiento, dtype: int64"
      ]
     },
     "execution_count": 20,
     "metadata": {},
     "output_type": "execute_result"
    }
   ],
   "source": [
    "data_cleaned['tipo_establecimiento'].value_counts()"
   ]
  },
  {
   "cell_type": "code",
   "execution_count": 21,
   "id": "df7b41eb-79f1-4cc9-a051-c4859319ccbe",
   "metadata": {},
   "outputs": [],
   "source": [
    "data_cleaned.drop(columns=['ciiu_cod', 'tipo_establecimiento_cod', 'provincia_cod'], inplace=True) "
   ]
  },
  {
   "cell_type": "code",
   "execution_count": 22,
   "id": "1668371e-f85e-4cd4-8205-d4f61445bba4",
   "metadata": {},
   "outputs": [
    {
     "data": {
      "text/plain": [
       "Index(['tipo_establecimiento', 'provincia_desc', 'ciiu_desc',\n",
       "       'personal_ocupado', 'sueldos', 'ventas'],\n",
       "      dtype='object')"
      ]
     },
     "execution_count": 22,
     "metadata": {},
     "output_type": "execute_result"
    }
   ],
   "source": [
    "data_cleaned.columns"
   ]
  },
  {
   "cell_type": "code",
   "execution_count": 23,
   "id": "3d1505e6-97f3-44f7-a6a8-b18a4cabb6cd",
   "metadata": {},
   "outputs": [
    {
     "data": {
      "text/html": [
       "<div>\n",
       "<style scoped>\n",
       "    .dataframe tbody tr th:only-of-type {\n",
       "        vertical-align: middle;\n",
       "    }\n",
       "\n",
       "    .dataframe tbody tr th {\n",
       "        vertical-align: top;\n",
       "    }\n",
       "\n",
       "    .dataframe thead th {\n",
       "        text-align: right;\n",
       "    }\n",
       "</style>\n",
       "<table border=\"1\" class=\"dataframe\">\n",
       "  <thead>\n",
       "    <tr style=\"text-align: right;\">\n",
       "      <th></th>\n",
       "      <th>tipo_establecimiento</th>\n",
       "      <th>provincia_desc</th>\n",
       "      <th>ciiu_desc</th>\n",
       "      <th>personal_ocupado</th>\n",
       "      <th>sueldos</th>\n",
       "      <th>ventas</th>\n",
       "    </tr>\n",
       "  </thead>\n",
       "  <tbody>\n",
       "    <tr>\n",
       "      <th>22073</th>\n",
       "      <td>Sucursal</td>\n",
       "      <td>ESMERALDAS</td>\n",
       "      <td>Generación, transmisión y distribución de ener...</td>\n",
       "      <td>0</td>\n",
       "      <td>0</td>\n",
       "      <td>0</td>\n",
       "    </tr>\n",
       "    <tr>\n",
       "      <th>11341</th>\n",
       "      <td>Sucursal</td>\n",
       "      <td>PICHINCHA</td>\n",
       "      <td>Construcción de edificios.</td>\n",
       "      <td>51</td>\n",
       "      <td>541641</td>\n",
       "      <td>23612</td>\n",
       "    </tr>\n",
       "    <tr>\n",
       "      <th>18564</th>\n",
       "      <td>Sucursal</td>\n",
       "      <td>GUAYAS</td>\n",
       "      <td>Venta al por mayor de otros enseres domésticos.</td>\n",
       "      <td>50</td>\n",
       "      <td>1107767</td>\n",
       "      <td>11525042</td>\n",
       "    </tr>\n",
       "    <tr>\n",
       "      <th>13448</th>\n",
       "      <td>Sucursal</td>\n",
       "      <td>IMBABURA</td>\n",
       "      <td>Actividades de restaurantes y de servicio móvi...</td>\n",
       "      <td>7</td>\n",
       "      <td>46207</td>\n",
       "      <td>268693</td>\n",
       "    </tr>\n",
       "    <tr>\n",
       "      <th>10414</th>\n",
       "      <td>Sucursal</td>\n",
       "      <td>LOS RÍOS</td>\n",
       "      <td>Enseñanza secundaria de formación general.</td>\n",
       "      <td>93</td>\n",
       "      <td>542436</td>\n",
       "      <td>1781485</td>\n",
       "    </tr>\n",
       "  </tbody>\n",
       "</table>\n",
       "</div>"
      ],
      "text/plain": [
       "      tipo_establecimiento provincia_desc  \\\n",
       "22073             Sucursal     ESMERALDAS   \n",
       "11341             Sucursal      PICHINCHA   \n",
       "18564             Sucursal         GUAYAS   \n",
       "13448             Sucursal       IMBABURA   \n",
       "10414             Sucursal       LOS RÍOS   \n",
       "\n",
       "                                               ciiu_desc  personal_ocupado  \\\n",
       "22073  Generación, transmisión y distribución de ener...                 0   \n",
       "11341                         Construcción de edificios.                51   \n",
       "18564    Venta al por mayor de otros enseres domésticos.                50   \n",
       "13448  Actividades de restaurantes y de servicio móvi...                 7   \n",
       "10414         Enseñanza secundaria de formación general.                93   \n",
       "\n",
       "       sueldos    ventas  \n",
       "22073        0         0  \n",
       "11341   541641     23612  \n",
       "18564  1107767  11525042  \n",
       "13448    46207    268693  \n",
       "10414   542436   1781485  "
      ]
     },
     "execution_count": 23,
     "metadata": {},
     "output_type": "execute_result"
    }
   ],
   "source": [
    "data.sample(10)\n",
    "data_cleaned.sample(5)"
   ]
  },
  {
   "cell_type": "code",
   "execution_count": 24,
   "id": "63d9b691-87d6-40d0-baff-f6966700f615",
   "metadata": {},
   "outputs": [],
   "source": [
    "# Convertir las variables categóricas a tipo 'category'\n",
    "data_cleaned['tipo_establecimiento'] = data_cleaned['tipo_establecimiento'].astype('category')\n",
    "data_cleaned['provincia_desc'] = data_cleaned['provincia_desc'].astype('category')\n",
    "data_cleaned['ciiu_desc'] = data_cleaned['ciiu_desc'].astype('category')\n",
    "\n",
    "# Definir nuevas asignaciones de categorías basadas en los resultados de value_counts()\n",
    "provincia_desc_categories = {\n",
    "'GUAYAS': 0,\n",
    "'PICHINCHA': 1,\n",
    "'MANABÍ': 3,\n",
    "'AZUAY': 4,\n",
    "'EL ORO': 5,\n",
    "'LOS RÍOS': 6,\n",
    "'TUNGURAHUA': 7,\n",
    "'STO. DOMINGO DE LOS TSÁCHILAS': 8,\n",
    "'IMBABURA': 9,\n",
    "'LOJA': 10,\n",
    "'ESMERALDAS': 11,\n",
    "'CHIMBORAZO': 12,\n",
    "'SANTA ELENA': 13,\n",
    "'COTOPAXI': 14,\n",
    "'ORELLANA': 15,\n",
    "'SUCUMBÍOS': 16,\n",
    "'CAÑAR': 17,\n",
    "'CARCHI': 18,\n",
    "'BOLÍVAR': 19,\n",
    "'ZAMORA CHINCHIPE': 20,\n",
    "'MORONA SANTIAGO': 21,\n",
    "'GALÁPAGOS': 22,\n",
    "'PASTAZA': 23,\n",
    "'NAPO': 24,\n",
    "}\n",
    "\n",
    "###############################################\n",
    "###############################################\n",
    "\n",
    "# Obtener los valores únicos de tipo_establecimiento\n",
    "unique_tipo_establecimiento = data_cleaned['tipo_establecimiento'].unique()\n",
    "\n",
    "# Crear el diccionario 'tipo_establecimientor_categories' usando un bucle for\n",
    "tipo_establecimientor_categories = {}\n",
    "for index, tipo_establecimiento in enumerate(unique_tipo_establecimiento):\n",
    "    tipo_establecimientor_categories[tipo_establecimiento] = index\n",
    "    \n",
    "###############################################\n",
    "###############################################\n",
    "\n",
    "# Obtener los valores únicos de tipo_establecimiento\n",
    "unique_ciiu_desc = data_cleaned['ciiu_desc'].unique()\n",
    "\n",
    "# Crear el diccionario 'ciiu_desc_categories' usando un bucle for\n",
    "ciiu_desc_categories = {}\n",
    "for index, ciiu_desc in enumerate(unique_ciiu_desc):\n",
    "    ciiu_desc_categories[ciiu_desc] = index"
   ]
  },
  {
   "cell_type": "code",
   "execution_count": 25,
   "id": "08b6be84-0898-4a66-853d-7d2ad9854a1a",
   "metadata": {},
   "outputs": [
    {
     "data": {
      "text/html": [
       "<div>\n",
       "<style scoped>\n",
       "    .dataframe tbody tr th:only-of-type {\n",
       "        vertical-align: middle;\n",
       "    }\n",
       "\n",
       "    .dataframe tbody tr th {\n",
       "        vertical-align: top;\n",
       "    }\n",
       "\n",
       "    .dataframe thead th {\n",
       "        text-align: right;\n",
       "    }\n",
       "</style>\n",
       "<table border=\"1\" class=\"dataframe\">\n",
       "  <thead>\n",
       "    <tr style=\"text-align: right;\">\n",
       "      <th></th>\n",
       "      <th>tipo_establecimiento</th>\n",
       "      <th>provincia_desc</th>\n",
       "      <th>ciiu_desc</th>\n",
       "      <th>personal_ocupado</th>\n",
       "      <th>sueldos</th>\n",
       "      <th>ventas</th>\n",
       "    </tr>\n",
       "  </thead>\n",
       "  <tbody>\n",
       "    <tr>\n",
       "      <th>20620</th>\n",
       "      <td>2</td>\n",
       "      <td>0</td>\n",
       "      <td>32</td>\n",
       "      <td>77</td>\n",
       "      <td>597831</td>\n",
       "      <td>18526895</td>\n",
       "    </tr>\n",
       "    <tr>\n",
       "      <th>7221</th>\n",
       "      <td>2</td>\n",
       "      <td>10</td>\n",
       "      <td>15</td>\n",
       "      <td>10</td>\n",
       "      <td>146844</td>\n",
       "      <td>519987</td>\n",
       "    </tr>\n",
       "    <tr>\n",
       "      <th>9980</th>\n",
       "      <td>2</td>\n",
       "      <td>8</td>\n",
       "      <td>4</td>\n",
       "      <td>8</td>\n",
       "      <td>32544</td>\n",
       "      <td>227065</td>\n",
       "    </tr>\n",
       "    <tr>\n",
       "      <th>14657</th>\n",
       "      <td>2</td>\n",
       "      <td>1</td>\n",
       "      <td>62</td>\n",
       "      <td>33</td>\n",
       "      <td>45680</td>\n",
       "      <td>712486</td>\n",
       "    </tr>\n",
       "    <tr>\n",
       "      <th>3251</th>\n",
       "      <td>2</td>\n",
       "      <td>1</td>\n",
       "      <td>105</td>\n",
       "      <td>13</td>\n",
       "      <td>262805</td>\n",
       "      <td>199470</td>\n",
       "    </tr>\n",
       "    <tr>\n",
       "      <th>6387</th>\n",
       "      <td>2</td>\n",
       "      <td>0</td>\n",
       "      <td>4</td>\n",
       "      <td>15</td>\n",
       "      <td>119095</td>\n",
       "      <td>606090</td>\n",
       "    </tr>\n",
       "    <tr>\n",
       "      <th>18794</th>\n",
       "      <td>2</td>\n",
       "      <td>6</td>\n",
       "      <td>33</td>\n",
       "      <td>2</td>\n",
       "      <td>15175</td>\n",
       "      <td>161687</td>\n",
       "    </tr>\n",
       "    <tr>\n",
       "      <th>11293</th>\n",
       "      <td>0</td>\n",
       "      <td>1</td>\n",
       "      <td>33</td>\n",
       "      <td>13</td>\n",
       "      <td>103884</td>\n",
       "      <td>919661</td>\n",
       "    </tr>\n",
       "    <tr>\n",
       "      <th>7537</th>\n",
       "      <td>2</td>\n",
       "      <td>3</td>\n",
       "      <td>74</td>\n",
       "      <td>2</td>\n",
       "      <td>10515</td>\n",
       "      <td>14065</td>\n",
       "    </tr>\n",
       "    <tr>\n",
       "      <th>12366</th>\n",
       "      <td>2</td>\n",
       "      <td>1</td>\n",
       "      <td>10</td>\n",
       "      <td>5</td>\n",
       "      <td>51981</td>\n",
       "      <td>458806</td>\n",
       "    </tr>\n",
       "  </tbody>\n",
       "</table>\n",
       "</div>"
      ],
      "text/plain": [
       "       tipo_establecimiento  provincia_desc  ciiu_desc  personal_ocupado  \\\n",
       "20620                     2               0         32                77   \n",
       "7221                      2              10         15                10   \n",
       "9980                      2               8          4                 8   \n",
       "14657                     2               1         62                33   \n",
       "3251                      2               1        105                13   \n",
       "6387                      2               0          4                15   \n",
       "18794                     2               6         33                 2   \n",
       "11293                     0               1         33                13   \n",
       "7537                      2               3         74                 2   \n",
       "12366                     2               1         10                 5   \n",
       "\n",
       "       sueldos    ventas  \n",
       "20620   597831  18526895  \n",
       "7221    146844    519987  \n",
       "9980     32544    227065  \n",
       "14657    45680    712486  \n",
       "3251    262805    199470  \n",
       "6387    119095    606090  \n",
       "18794    15175    161687  \n",
       "11293   103884    919661  \n",
       "7537     10515     14065  \n",
       "12366    51981    458806  "
      ]
     },
     "execution_count": 25,
     "metadata": {},
     "output_type": "execute_result"
    }
   ],
   "source": [
    "# Renombrar las categorías utilizando los nuevos códigos\n",
    "data_cleaned['tipo_establecimiento'] = data_cleaned['tipo_establecimiento'].cat.rename_categories(tipo_establecimientor_categories)\n",
    "data_cleaned['provincia_desc'] = data_cleaned['provincia_desc'].cat.rename_categories(provincia_desc_categories)\n",
    "data_cleaned['ciiu_desc'] = data_cleaned['ciiu_desc'].cat.rename_categories(ciiu_desc_categories)\n",
    "\n",
    "# Convertir las variables categóricas a enteros\n",
    "data_cleaned['tipo_establecimiento'] = data_cleaned['tipo_establecimiento'].astype('int64')\n",
    "data_cleaned['provincia_desc'] = data_cleaned['provincia_desc'].astype('int64')\n",
    "data_cleaned['ciiu_desc'] = data_cleaned['ciiu_desc'].astype('int64')\n",
    "\n",
    "# Mostrar una muestra de los datos transformados\n",
    "data_cleaned.sample(10)"
   ]
  },
  {
   "cell_type": "code",
   "execution_count": 26,
   "id": "ae552963-7fd4-4927-9773-d92a58b5da8e",
   "metadata": {},
   "outputs": [
    {
     "name": "stdout",
     "output_type": "stream",
     "text": [
      "<class 'pandas.core.frame.DataFrame'>\n",
      "RangeIndex: 21695 entries, 0 to 21694\n",
      "Data columns (total 6 columns):\n",
      " #   Column                Non-Null Count  Dtype\n",
      "---  ------                --------------  -----\n",
      " 0   tipo_establecimiento  21695 non-null  int64\n",
      " 1   provincia_desc        21695 non-null  int64\n",
      " 2   ciiu_desc             21695 non-null  int64\n",
      " 3   personal_ocupado      21695 non-null  int64\n",
      " 4   sueldos               21695 non-null  int64\n",
      " 5   ventas                21695 non-null  int64\n",
      "dtypes: int64(6)\n",
      "memory usage: 1017.1 KB\n"
     ]
    }
   ],
   "source": [
    "# Mostrar una muestra de los datos transformados\n",
    "\n",
    "#data_cleaned=data_cleaned[data_cleaned['ventas']!=0]\n",
    "#data_cleaned=data_cleaned[data_cleaned['ventas']>0]\n",
    "data_cleaned = data_cleaned.reset_index(drop=True)\n",
    "data_cleaned.info()"
   ]
  },
  {
   "cell_type": "markdown",
   "id": "4c8e3fe3-70c1-4cec-be68-1c21c3f0776a",
   "metadata": {},
   "source": [
    "### ENTRENAMIENTO DEL MODELO (REGRESION POLINOMIAL Y LINEAL)"
   ]
  },
  {
   "cell_type": "code",
   "execution_count": 27,
   "id": "15155ce4-2e08-4a41-8886-9e0463fd2930",
   "metadata": {},
   "outputs": [
    {
     "name": "stdout",
     "output_type": "stream",
     "text": [
      "(15186, 5) (6509, 5)\n"
     ]
    },
    {
     "data": {
      "text/html": [
       "<div>\n",
       "<style scoped>\n",
       "    .dataframe tbody tr th:only-of-type {\n",
       "        vertical-align: middle;\n",
       "    }\n",
       "\n",
       "    .dataframe tbody tr th {\n",
       "        vertical-align: top;\n",
       "    }\n",
       "\n",
       "    .dataframe thead th {\n",
       "        text-align: right;\n",
       "    }\n",
       "</style>\n",
       "<table border=\"1\" class=\"dataframe\">\n",
       "  <thead>\n",
       "    <tr style=\"text-align: right;\">\n",
       "      <th></th>\n",
       "      <th>tipo_establecimiento</th>\n",
       "      <th>provincia_desc</th>\n",
       "      <th>ciiu_desc</th>\n",
       "      <th>personal_ocupado</th>\n",
       "      <th>ventas</th>\n",
       "    </tr>\n",
       "  </thead>\n",
       "  <tbody>\n",
       "    <tr>\n",
       "      <th>0</th>\n",
       "      <td>1</td>\n",
       "      <td>4</td>\n",
       "      <td>1</td>\n",
       "      <td>2</td>\n",
       "      <td>2117598</td>\n",
       "    </tr>\n",
       "  </tbody>\n",
       "</table>\n",
       "</div>"
      ],
      "text/plain": [
       "   tipo_establecimiento  provincia_desc  ciiu_desc  personal_ocupado   ventas\n",
       "0                     1               4          1                 2  2117598"
      ]
     },
     "execution_count": 27,
     "metadata": {},
     "output_type": "execute_result"
    }
   ],
   "source": [
    "y = data_cleaned['sueldos'] #variable target\n",
    "X = data_cleaned.drop(columns=['sueldos']) #variables input\n",
    "X_train, X_test, y_train, y_test = train_test_split(X, y, test_size=0.3, random_state=20)\n",
    "print(X_train.shape,X_test.shape)\n",
    "# Creamos una nueva observacion\n",
    "nuevoSueldo= pd.DataFrame(\n",
    "    [\n",
    "         {\n",
    "        \"tipo_establecimiento\": 1,\n",
    "        \"provincia_desc\":4,\n",
    "        \"ciiu_desc\":1,\n",
    "        \"personal_ocupado\":2,\n",
    "        \"ventas\":2117598\n",
    "         }\n",
    "    ])\n",
    "nuevoSueldo"
   ]
  },
  {
   "cell_type": "code",
   "execution_count": 28,
   "id": "34928bdc-95f8-4a6b-8ae2-0ce23023fc4d",
   "metadata": {},
   "outputs": [
    {
     "name": "stdout",
     "output_type": "stream",
     "text": [
      "   tipo_establecimiento  provincia_desc  ciiu_desc  personal_ocupado  \\\n",
      "0             -2.607276        0.070884  -0.958594          0.263368   \n",
      "1             -1.085246        0.070884  -0.940636         -0.195637   \n",
      "2             -1.085246        0.070884  -0.922678         -0.025361   \n",
      "3             -1.085246        0.070884  -0.904720          0.085689   \n",
      "4             -1.085246        0.070884  -0.886761         -0.069781   \n",
      "\n",
      "     ventas  sueldos  \n",
      "0  0.077898   600616  \n",
      "1 -0.050010    66000  \n",
      "2  0.024593   298257  \n",
      "3 -0.056455   319010  \n",
      "4 -0.063409   193291  \n",
      "Training sample:\n",
      "       tipo_establecimiento  provincia_desc  ciiu_desc  personal_ocupado  \\\n",
      "10213              0.436784       -0.726481  -0.886761         -0.136410   \n",
      "12035              0.436784        0.270225   0.567846         -0.173427   \n",
      "9041               0.436784       -0.527140   0.531930         -0.121604   \n",
      "11898              0.436784       -0.527140   1.016799         -0.203040   \n",
      "17373              0.436784        0.070884   2.489364         -0.217847   \n",
      "797                0.436784       -0.726481  -0.761055          0.544694   \n",
      "14826              0.436784        0.270225  -0.743097         -0.232653   \n",
      "1285               0.436784        1.266931   0.352348         -0.240057   \n",
      "4090              -2.607276       -0.726481  -0.365976          0.574307   \n",
      "19608             -2.607276       -0.726481  -0.779013         -0.129007   \n",
      "6636               0.436784        1.067590  -0.743097         -0.129007   \n",
      "9298               0.436784       -0.726481  -0.186395         -0.247460   \n",
      "14319              0.436784        2.064295  -0.132521         -0.232653   \n",
      "6495               0.436784       -0.726481  -0.096604         -0.232653   \n",
      "\n",
      "         ventas  \n",
      "10213 -0.070054  \n",
      "12035 -0.058917  \n",
      "9041  -0.076331  \n",
      "11898 -0.078543  \n",
      "17373 -0.080638  \n",
      "797   -0.078744  \n",
      "14826 -0.081419  \n",
      "1285  -0.054861  \n",
      "4090  -0.004939  \n",
      "19608  0.000604  \n",
      "6636  -0.001066  \n",
      "9298  -0.084756  \n",
      "14319 -0.079642  \n",
      "6495  -0.039279  \n",
      "\n",
      "Nueva obs:\n",
      "   tipo_establecimiento  provincia_desc  ciiu_desc  personal_ocupado   ventas\n",
      "0                     1               4          1                 2  2117598\n",
      "Nueva obs escalada:\n",
      "   tipo_establecimiento  provincia_desc  ciiu_desc  personal_ocupado   ventas\n",
      "0             -1.085246        0.070884  -0.940636         -0.232653 -0.05001\n"
     ]
    }
   ],
   "source": [
    "scaler = preprocessing.StandardScaler()\n",
    "scaler.fit(X_train[['tipo_establecimiento','provincia_desc','ciiu_desc','personal_ocupado','ventas']])\n",
    "#transformamos todo el dataset\n",
    "data_cleaned_normalized=pd.concat([pd.DataFrame(scaler.transform(data_cleaned[['tipo_establecimiento','provincia_desc','ciiu_desc','personal_ocupado','ventas']]),\n",
    "                                               columns=['tipo_establecimiento','provincia_desc','ciiu_desc','personal_ocupado','ventas']),\n",
    "                                  data_cleaned[['sueldos']]],axis=1)\n",
    "print(data_cleaned_normalized.head())\n",
    "# Guardar un scaler\n",
    "joblib.dump(scaler,'scaler_modelo.pkl')\n",
    "\n",
    "X_train_norm = data_cleaned_normalized.iloc[X_train.index].drop(columns=['sueldos'])\n",
    "X_test_norm = data_cleaned_normalized.iloc[X_test.index].drop(columns=['sueldos'])\n",
    "\n",
    "print('Training sample:')\n",
    "print(X_train_norm.iloc[:14, :])\n",
    "#print(validNorm[0])\n",
    "\n",
    "nuevoSueldo_norm = pd.DataFrame(scaler.transform(nuevoSueldo), columns=['tipo_establecimiento','provincia_desc','ciiu_desc','personal_ocupado','ventas'])\n",
    "print('\\nNueva obs:')\n",
    "print(nuevoSueldo)\n",
    "print('Nueva obs escalada:')\n",
    "print(nuevoSueldo_norm)\n"
   ]
  },
  {
   "cell_type": "markdown",
   "id": "620b0e55-ee44-4d90-83f6-6ccd473888db",
   "metadata": {},
   "source": [
    "- Separamos data de training y testing:"
   ]
  },
  {
   "cell_type": "code",
   "execution_count": 29,
   "id": "0d2533ae-1e13-4d5c-ad9d-921281b86bd5",
   "metadata": {},
   "outputs": [],
   "source": [
    "#Cree y entrene el modelo de regresor lineal\n",
    "# Create the linear regressor model\n",
    "linear_regressor = linear_model.LinearRegression()"
   ]
  },
  {
   "cell_type": "code",
   "execution_count": 30,
   "id": "6d3f89b0-c235-4083-b4cd-37a05edf81cf",
   "metadata": {},
   "outputs": [
    {
     "data": {
      "text/html": [
       "<style>#sk-container-id-1 {color: black;}#sk-container-id-1 pre{padding: 0;}#sk-container-id-1 div.sk-toggleable {background-color: white;}#sk-container-id-1 label.sk-toggleable__label {cursor: pointer;display: block;width: 100%;margin-bottom: 0;padding: 0.3em;box-sizing: border-box;text-align: center;}#sk-container-id-1 label.sk-toggleable__label-arrow:before {content: \"▸\";float: left;margin-right: 0.25em;color: #696969;}#sk-container-id-1 label.sk-toggleable__label-arrow:hover:before {color: black;}#sk-container-id-1 div.sk-estimator:hover label.sk-toggleable__label-arrow:before {color: black;}#sk-container-id-1 div.sk-toggleable__content {max-height: 0;max-width: 0;overflow: hidden;text-align: left;background-color: #f0f8ff;}#sk-container-id-1 div.sk-toggleable__content pre {margin: 0.2em;color: black;border-radius: 0.25em;background-color: #f0f8ff;}#sk-container-id-1 input.sk-toggleable__control:checked~div.sk-toggleable__content {max-height: 200px;max-width: 100%;overflow: auto;}#sk-container-id-1 input.sk-toggleable__control:checked~label.sk-toggleable__label-arrow:before {content: \"▾\";}#sk-container-id-1 div.sk-estimator input.sk-toggleable__control:checked~label.sk-toggleable__label {background-color: #d4ebff;}#sk-container-id-1 div.sk-label input.sk-toggleable__control:checked~label.sk-toggleable__label {background-color: #d4ebff;}#sk-container-id-1 input.sk-hidden--visually {border: 0;clip: rect(1px 1px 1px 1px);clip: rect(1px, 1px, 1px, 1px);height: 1px;margin: -1px;overflow: hidden;padding: 0;position: absolute;width: 1px;}#sk-container-id-1 div.sk-estimator {font-family: monospace;background-color: #f0f8ff;border: 1px dotted black;border-radius: 0.25em;box-sizing: border-box;margin-bottom: 0.5em;}#sk-container-id-1 div.sk-estimator:hover {background-color: #d4ebff;}#sk-container-id-1 div.sk-parallel-item::after {content: \"\";width: 100%;border-bottom: 1px solid gray;flex-grow: 1;}#sk-container-id-1 div.sk-label:hover label.sk-toggleable__label {background-color: #d4ebff;}#sk-container-id-1 div.sk-serial::before {content: \"\";position: absolute;border-left: 1px solid gray;box-sizing: border-box;top: 0;bottom: 0;left: 50%;z-index: 0;}#sk-container-id-1 div.sk-serial {display: flex;flex-direction: column;align-items: center;background-color: white;padding-right: 0.2em;padding-left: 0.2em;position: relative;}#sk-container-id-1 div.sk-item {position: relative;z-index: 1;}#sk-container-id-1 div.sk-parallel {display: flex;align-items: stretch;justify-content: center;background-color: white;position: relative;}#sk-container-id-1 div.sk-item::before, #sk-container-id-1 div.sk-parallel-item::before {content: \"\";position: absolute;border-left: 1px solid gray;box-sizing: border-box;top: 0;bottom: 0;left: 50%;z-index: -1;}#sk-container-id-1 div.sk-parallel-item {display: flex;flex-direction: column;z-index: 1;position: relative;background-color: white;}#sk-container-id-1 div.sk-parallel-item:first-child::after {align-self: flex-end;width: 50%;}#sk-container-id-1 div.sk-parallel-item:last-child::after {align-self: flex-start;width: 50%;}#sk-container-id-1 div.sk-parallel-item:only-child::after {width: 0;}#sk-container-id-1 div.sk-dashed-wrapped {border: 1px dashed gray;margin: 0 0.4em 0.5em 0.4em;box-sizing: border-box;padding-bottom: 0.4em;background-color: white;}#sk-container-id-1 div.sk-label label {font-family: monospace;font-weight: bold;display: inline-block;line-height: 1.2em;}#sk-container-id-1 div.sk-label-container {text-align: center;}#sk-container-id-1 div.sk-container {/* jupyter's `normalize.less` sets `[hidden] { display: none; }` but bootstrap.min.css set `[hidden] { display: none !important; }` so we also need the `!important` here to be able to override the default hidden behavior on the sphinx rendered scikit-learn.org. See: https://github.com/scikit-learn/scikit-learn/issues/21755 */display: inline-block !important;position: relative;}#sk-container-id-1 div.sk-text-repr-fallback {display: none;}</style><div id=\"sk-container-id-1\" class=\"sk-top-container\"><div class=\"sk-text-repr-fallback\"><pre>LinearRegression()</pre><b>In a Jupyter environment, please rerun this cell to show the HTML representation or trust the notebook. <br />On GitHub, the HTML representation is unable to render, please try loading this page with nbviewer.org.</b></div><div class=\"sk-container\" hidden><div class=\"sk-item\"><div class=\"sk-estimator sk-toggleable\"><input class=\"sk-toggleable__control sk-hidden--visually\" id=\"sk-estimator-id-1\" type=\"checkbox\" checked><label for=\"sk-estimator-id-1\" class=\"sk-toggleable__label sk-toggleable__label-arrow\">LinearRegression</label><div class=\"sk-toggleable__content\"><pre>LinearRegression()</pre></div></div></div></div></div>"
      ],
      "text/plain": [
       "LinearRegression()"
      ]
     },
     "execution_count": 30,
     "metadata": {},
     "output_type": "execute_result"
    }
   ],
   "source": [
    "# Train the model using the training sets\n",
    "linear_regressor.fit(X_train_norm, y_train)"
   ]
  },
  {
   "cell_type": "code",
   "execution_count": 31,
   "id": "140803c7-40ac-445b-944b-0f4cbd438095",
   "metadata": {},
   "outputs": [
    {
     "name": "stdout",
     "output_type": "stream",
     "text": [
      "Predicted price: [144447.71579988]\n"
     ]
    }
   ],
   "source": [
    "# Realiza la predicción\n",
    "predicted_price = linear_regressor.predict(nuevoSueldo_norm)\n",
    "\n",
    "print(\"Predicted price:\", predicted_price)"
   ]
  },
  {
   "cell_type": "code",
   "execution_count": 32,
   "id": "013f6532-4555-432d-a145-51d975d58933",
   "metadata": {},
   "outputs": [],
   "source": [
    "# Predict the output\n",
    "y_test_pred = linear_regressor.predict(X_test_norm)"
   ]
  },
  {
   "cell_type": "code",
   "execution_count": 33,
   "id": "50fd482e-d031-4fff-8ed0-4097df37ec4c",
   "metadata": {},
   "outputs": [
    {
     "name": "stdout",
     "output_type": "stream",
     "text": [
      "Linear regressor performance:\n",
      "Mean absolute error = 152721.72\n",
      "Mean squared error = 422914277963.96\n",
      "Median absolute error = 30704.72\n",
      "Explain variance score = 0.76\n",
      "R2 score = 0.76\n"
     ]
    }
   ],
   "source": [
    "# Calcule los valores para las diferentes métricas, consulte su interpretación\n",
    "print(\"Linear regressor performance:\")\n",
    "print(\"Mean absolute error =\", round(sm.mean_absolute_error(y_test, y_test_pred), 2))\n",
    "print(\"Mean squared error =\", round(sm.mean_squared_error(y_test, y_test_pred), 2)) \n",
    "print(\"Median absolute error =\", round(sm.median_absolute_error(y_test, y_test_pred), 2)) \n",
    "print(\"Explain variance score =\", round(sm.explained_variance_score(y_test, y_test_pred), 2))\n",
    "print(\"R2 score =\", round(sm.r2_score(y_test, y_test_pred), 2))"
   ]
  },
  {
   "cell_type": "code",
   "execution_count": 34,
   "id": "198fb0c1-75d8-4df1-a096-b563e2976da5",
   "metadata": {},
   "outputs": [],
   "source": [
    "with open('trained_model.pkl','wb') as file:\n",
    "    pickle.dump(linear_regressor,file)"
   ]
  },
  {
   "cell_type": "markdown",
   "id": "aa400003-699f-4f7c-893b-a0769dc6c28e",
   "metadata": {},
   "source": [
    "### polinomio grado 2"
   ]
  },
  {
   "cell_type": "code",
   "execution_count": 35,
   "id": "cae9fdc3-9c5e-4340-9133-24adfc2affae",
   "metadata": {},
   "outputs": [],
   "source": [
    "degree = 2\n",
    "polyreg = make_pipeline(PolynomialFeatures(degree), LinearRegression())\n",
    "polyreg.fit(X_train_norm, y_train)\n",
    "y_predicted = polyreg.predict(X_test_norm)"
   ]
  },
  {
   "cell_type": "code",
   "execution_count": 36,
   "id": "dcd2f14d-2f38-454b-bd85-5f78d536d98b",
   "metadata": {},
   "outputs": [
    {
     "data": {
      "text/plain": [
       "808602.3153096966"
      ]
     },
     "execution_count": 36,
     "metadata": {},
     "output_type": "execute_result"
    }
   ],
   "source": [
    "poly_reg_rmse = np.sqrt(mean_squared_error(y_test, y_predicted))\n",
    "poly_reg_rmse"
   ]
  },
  {
   "cell_type": "code",
   "execution_count": 37,
   "id": "b1a924a7-7e62-4b99-9516-ba41b0ed41c4",
   "metadata": {},
   "outputs": [
    {
     "name": "stdout",
     "output_type": "stream",
     "text": [
      "Linear Regressor performance:\n",
      "Mean absolute error = 170483.77\n",
      "Mean squared error = 653837704324.2\n",
      "Median absolute error = 40041.11\n",
      "Explained variance score = 0.62\n",
      "R2 score = 0.62\n"
     ]
    }
   ],
   "source": [
    "# Measure performance\n",
    "print(\"Linear Regressor performance:\")\n",
    "print(\"Mean absolute error =\", round(sm.mean_absolute_error(y_test, y_predicted), 2))\n",
    "print(\"Mean squared error =\", round(sm.mean_squared_error(y_test, y_predicted), 2))\n",
    "print(\"Median absolute error =\", round(sm.median_absolute_error(y_test, y_predicted), 2))\n",
    "print(\"Explained variance score =\", round(sm.explained_variance_score(y_test, y_predicted), 2))\n",
    "print(\"R2 score =\", round(sm.r2_score(y_test, y_predicted), 2))"
   ]
  },
  {
   "cell_type": "markdown",
   "id": "9146aa67-9783-4a49-af80-5f4ccc381faf",
   "metadata": {},
   "source": [
    "### **SVM regressor**"
   ]
  },
  {
   "cell_type": "code",
   "execution_count": 38,
   "id": "275e4a99-3de5-4814-b23a-836531a6b412",
   "metadata": {},
   "outputs": [],
   "source": [
    "# Create Support Vector Regression model\n",
    "sv_regressor = SVR(kernel='poly',degree=5, C=1.0, epsilon=0.1)"
   ]
  },
  {
   "cell_type": "code",
   "execution_count": 39,
   "id": "9004d7d8-71ad-45fb-aa28-b652e8d2d8eb",
   "metadata": {},
   "outputs": [
    {
     "data": {
      "text/html": [
       "<style>#sk-container-id-2 {color: black;}#sk-container-id-2 pre{padding: 0;}#sk-container-id-2 div.sk-toggleable {background-color: white;}#sk-container-id-2 label.sk-toggleable__label {cursor: pointer;display: block;width: 100%;margin-bottom: 0;padding: 0.3em;box-sizing: border-box;text-align: center;}#sk-container-id-2 label.sk-toggleable__label-arrow:before {content: \"▸\";float: left;margin-right: 0.25em;color: #696969;}#sk-container-id-2 label.sk-toggleable__label-arrow:hover:before {color: black;}#sk-container-id-2 div.sk-estimator:hover label.sk-toggleable__label-arrow:before {color: black;}#sk-container-id-2 div.sk-toggleable__content {max-height: 0;max-width: 0;overflow: hidden;text-align: left;background-color: #f0f8ff;}#sk-container-id-2 div.sk-toggleable__content pre {margin: 0.2em;color: black;border-radius: 0.25em;background-color: #f0f8ff;}#sk-container-id-2 input.sk-toggleable__control:checked~div.sk-toggleable__content {max-height: 200px;max-width: 100%;overflow: auto;}#sk-container-id-2 input.sk-toggleable__control:checked~label.sk-toggleable__label-arrow:before {content: \"▾\";}#sk-container-id-2 div.sk-estimator input.sk-toggleable__control:checked~label.sk-toggleable__label {background-color: #d4ebff;}#sk-container-id-2 div.sk-label input.sk-toggleable__control:checked~label.sk-toggleable__label {background-color: #d4ebff;}#sk-container-id-2 input.sk-hidden--visually {border: 0;clip: rect(1px 1px 1px 1px);clip: rect(1px, 1px, 1px, 1px);height: 1px;margin: -1px;overflow: hidden;padding: 0;position: absolute;width: 1px;}#sk-container-id-2 div.sk-estimator {font-family: monospace;background-color: #f0f8ff;border: 1px dotted black;border-radius: 0.25em;box-sizing: border-box;margin-bottom: 0.5em;}#sk-container-id-2 div.sk-estimator:hover {background-color: #d4ebff;}#sk-container-id-2 div.sk-parallel-item::after {content: \"\";width: 100%;border-bottom: 1px solid gray;flex-grow: 1;}#sk-container-id-2 div.sk-label:hover label.sk-toggleable__label {background-color: #d4ebff;}#sk-container-id-2 div.sk-serial::before {content: \"\";position: absolute;border-left: 1px solid gray;box-sizing: border-box;top: 0;bottom: 0;left: 50%;z-index: 0;}#sk-container-id-2 div.sk-serial {display: flex;flex-direction: column;align-items: center;background-color: white;padding-right: 0.2em;padding-left: 0.2em;position: relative;}#sk-container-id-2 div.sk-item {position: relative;z-index: 1;}#sk-container-id-2 div.sk-parallel {display: flex;align-items: stretch;justify-content: center;background-color: white;position: relative;}#sk-container-id-2 div.sk-item::before, #sk-container-id-2 div.sk-parallel-item::before {content: \"\";position: absolute;border-left: 1px solid gray;box-sizing: border-box;top: 0;bottom: 0;left: 50%;z-index: -1;}#sk-container-id-2 div.sk-parallel-item {display: flex;flex-direction: column;z-index: 1;position: relative;background-color: white;}#sk-container-id-2 div.sk-parallel-item:first-child::after {align-self: flex-end;width: 50%;}#sk-container-id-2 div.sk-parallel-item:last-child::after {align-self: flex-start;width: 50%;}#sk-container-id-2 div.sk-parallel-item:only-child::after {width: 0;}#sk-container-id-2 div.sk-dashed-wrapped {border: 1px dashed gray;margin: 0 0.4em 0.5em 0.4em;box-sizing: border-box;padding-bottom: 0.4em;background-color: white;}#sk-container-id-2 div.sk-label label {font-family: monospace;font-weight: bold;display: inline-block;line-height: 1.2em;}#sk-container-id-2 div.sk-label-container {text-align: center;}#sk-container-id-2 div.sk-container {/* jupyter's `normalize.less` sets `[hidden] { display: none; }` but bootstrap.min.css set `[hidden] { display: none !important; }` so we also need the `!important` here to be able to override the default hidden behavior on the sphinx rendered scikit-learn.org. See: https://github.com/scikit-learn/scikit-learn/issues/21755 */display: inline-block !important;position: relative;}#sk-container-id-2 div.sk-text-repr-fallback {display: none;}</style><div id=\"sk-container-id-2\" class=\"sk-top-container\"><div class=\"sk-text-repr-fallback\"><pre>SVR(degree=5, kernel=&#x27;poly&#x27;)</pre><b>In a Jupyter environment, please rerun this cell to show the HTML representation or trust the notebook. <br />On GitHub, the HTML representation is unable to render, please try loading this page with nbviewer.org.</b></div><div class=\"sk-container\" hidden><div class=\"sk-item\"><div class=\"sk-estimator sk-toggleable\"><input class=\"sk-toggleable__control sk-hidden--visually\" id=\"sk-estimator-id-2\" type=\"checkbox\" checked><label for=\"sk-estimator-id-2\" class=\"sk-toggleable__label sk-toggleable__label-arrow\">SVR</label><div class=\"sk-toggleable__content\"><pre>SVR(degree=5, kernel=&#x27;poly&#x27;)</pre></div></div></div></div></div>"
      ],
      "text/plain": [
       "SVR(degree=5, kernel='poly')"
      ]
     },
     "execution_count": 39,
     "metadata": {},
     "output_type": "execute_result"
    }
   ],
   "source": [
    "# Train Support Vector Regressor\n",
    "sv_regressor.fit(X_train_norm, y_train)"
   ]
  },
  {
   "cell_type": "code",
   "execution_count": 40,
   "id": "0e9ef0b8-6cc0-4821-b906-204fb4184c51",
   "metadata": {},
   "outputs": [
    {
     "name": "stdout",
     "output_type": "stream",
     "text": [
      "\n",
      "#### Performance ####\n",
      "Mean squared error = 1430701216056.59\n",
      "R2 score = 0.18\n"
     ]
    }
   ],
   "source": [
    "# Evaluate performance of Support Vector Regressor\n",
    "y_test_pred = sv_regressor.predict(X_test_norm)\n",
    "mse = mean_squared_error(y_test, y_test_pred)\n",
    "r2 = r2_score(y_test, y_test_pred)\n",
    "print(\"\\n#### Performance ####\")\n",
    "print(\"Mean squared error =\", round(mse, 2))\n",
    "print(\"R2 score =\", round(r2, 2))"
   ]
  },
  {
   "cell_type": "code",
   "execution_count": null,
   "id": "7daf33a0-0c5e-4412-b408-5d34f54b445f",
   "metadata": {},
   "outputs": [],
   "source": []
  }
 ],
 "metadata": {
  "kernelspec": {
   "display_name": "Python 3 (ipykernel)",
   "language": "python",
   "name": "python3"
  },
  "language_info": {
   "codemirror_mode": {
    "name": "ipython",
    "version": 3
   },
   "file_extension": ".py",
   "mimetype": "text/x-python",
   "name": "python",
   "nbconvert_exporter": "python",
   "pygments_lexer": "ipython3",
   "version": "3.10.9"
  }
 },
 "nbformat": 4,
 "nbformat_minor": 5
}
